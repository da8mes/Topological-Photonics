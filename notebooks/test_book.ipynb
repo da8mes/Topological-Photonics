{
 "cells": [
  {
   "cell_type": "code",
   "execution_count": 40,
   "metadata": {},
   "outputs": [],
   "source": [
    "%matplotlib inline\n",
    "import matplotlib.pyplot as plt\n",
    "import numpy as np\n",
    "from scipy.signal import chirp, find_peaks, peak_widths\n",
    "from qutip import *\n",
    "import time"
   ]
  },
  {
   "cell_type": "code",
   "execution_count": 45,
   "metadata": {},
   "outputs": [
    {
     "name": "stdout",
     "output_type": "stream",
     "text": [
      "qbit0:  Quantum object: dims = [[3], [1]], shape = (3, 1), type = ket\n",
      "Qobj data =\n",
      "[[0.]\n",
      " [1.]\n",
      " [0.]]\n",
      "qbit1:  Quantum object: dims = [[3], [1]], shape = (3, 1), type = ket\n",
      "Qobj data =\n",
      "[[0.]\n",
      " [0.]\n",
      " [1.]]\n"
     ]
    }
   ],
   "source": [
    "# figure out how tensor products work \n",
    "\n",
    "cav_max = 3\n",
    "\n",
    "qbit0 = basis(cav_max, n=1)\n",
    "qbit1 = basis(cav_max, n=2)\n",
    "\n",
    "print('qbit0: ', qbit0)\n",
    "print('qbit1: ', qbit1)"
   ]
  },
  {
   "cell_type": "code",
   "execution_count": 42,
   "metadata": {},
   "outputs": [
    {
     "name": "stdout",
     "output_type": "stream",
     "text": [
      "Quantum object: dims = [[3, 3], [1, 1]], shape = (9, 1), type = ket\n",
      "Qobj data =\n",
      "[[0.]\n",
      " [0.]\n",
      " [1.]\n",
      " [0.]\n",
      " [0.]\n",
      " [0.]\n",
      " [0.]\n",
      " [0.]\n",
      " [0.]]\n"
     ]
    }
   ],
   "source": [
    "cav_max = 3\n",
    "\n",
    "qbit0 = basis(cav_max, n=0)\n",
    "qbit1 = basis(cav_max, n=2)\n",
    "\n",
    "tnsr = tensor(qbit0, qbit1)\n",
    "\n",
    "# which rows encode for n = 2 tens qbit1 ; qbit0 tens n = 2\n",
    "\n",
    "'''\n",
    "======\n",
    "(0, 1, 0) tensor (1, 0, 0) works like \n",
    "\n",
    "0 *(1, \n",
    "    0, \n",
    "    0)\n",
    "    \n",
    "1 *(1, ==> (0,0,0 | 1,0,0 | 0,0,0) ==> n1 = 1 and n2 = 0 \n",
    "    0, \n",
    "    0)\n",
    "    \n",
    "0 *(1, \n",
    "    0, \n",
    "    0)\n",
    "\n",
    "=======\n",
    "allowed: (n1, n2): (0,0), (0,1), (1,0), (1,1), (0,2), (2,0)\n",
    "not allowed: (1,2), (2,1), (2,2) ==> (0,0,0, 0,0,0, 0,*,*)\n",
    "if eliminate last state ==> (0, 0, 0 | 0, 0, 0 | 0 - -)\n",
    "'''\n",
    "\n",
    "print(tnsr)"
   ]
  },
  {
   "cell_type": "code",
   "execution_count": 48,
   "metadata": {},
   "outputs": [
    {
     "data": {
      "text/latex": [
       "Quantum object: dims = [[3, 3], [3, 3]], shape = (9, 9), type = oper, isherm = False\\begin{equation*}\\left(\\begin{array}{*{11}c}0.0 & 0.0 & 0.0 & 0.0 & 0.0 & 0.0 & 0.0 & 0.0 & 0.0\\\\0.0 & 0.0 & 0.0 & 0.0 & 0.0 & 0.0 & 0.0 & 0.0 & 0.0\\\\0.0 & 0.0 & 0.0 & 0.0 & 0.0 & 0.0 & 0.0 & 0.0 & 0.0\\\\0.0 & 0.0 & 0.0 & 0.0 & 0.0 & 0.0 & 0.0 & 0.0 & 0.0\\\\1.0 & 0.0 & 0.0 & 0.0 & 0.0 & 0.0 & 0.0 & 0.0 & 0.0\\\\0.0 & 1.414 & 0.0 & 0.0 & 0.0 & 0.0 & 0.0 & 0.0 & 0.0\\\\0.0 & 0.0 & 0.0 & 0.0 & 0.0 & 0.0 & 0.0 & 0.0 & 0.0\\\\0.0 & 0.0 & 0.0 & 1.414 & 0.0 & 0.0 & 0.0 & 0.0 & 0.0\\\\0.0 & 0.0 & 0.0 & 0.0 & 2.0 & 0.0 & 0.0 & 0.0 & 0.0\\\\\\end{array}\\right)\\end{equation*}"
      ],
      "text/plain": [
       "Quantum object: dims = [[3, 3], [3, 3]], shape = (9, 9), type = oper, isherm = False\n",
       "Qobj data =\n",
       "[[0.         0.         0.         0.         0.         0.\n",
       "  0.         0.         0.        ]\n",
       " [0.         0.         0.         0.         0.         0.\n",
       "  0.         0.         0.        ]\n",
       " [0.         0.         0.         0.         0.         0.\n",
       "  0.         0.         0.        ]\n",
       " [0.         0.         0.         0.         0.         0.\n",
       "  0.         0.         0.        ]\n",
       " [1.         0.         0.         0.         0.         0.\n",
       "  0.         0.         0.        ]\n",
       " [0.         1.41421356 0.         0.         0.         0.\n",
       "  0.         0.         0.        ]\n",
       " [0.         0.         0.         0.         0.         0.\n",
       "  0.         0.         0.        ]\n",
       " [0.         0.         0.         1.41421356 0.         0.\n",
       "  0.         0.         0.        ]\n",
       " [0.         0.         0.         0.         2.         0.\n",
       "  0.         0.         0.        ]]"
      ]
     },
     "execution_count": 48,
     "metadata": {},
     "output_type": "execute_result"
    }
   ],
   "source": [
    "# lets try it on operators\n",
    "\n",
    "cav_max = 3\n",
    "\n",
    "qbit0 = basis(cav_max, n=0)\n",
    "qbit1 = basis(cav_max, n=0)\n",
    "\n",
    "tnsr = tensor(qbit0, qbit1)\n",
    "\n",
    "a = destroy(cav_max)\n",
    "a = tensor(a, a)\n",
    "\n",
    "a_dag = a.dag()\n",
    "\n",
    "a_dag"
   ]
  },
  {
   "cell_type": "code",
   "execution_count": 50,
   "metadata": {},
   "outputs": [
    {
     "name": "stdout",
     "output_type": "stream",
     "text": [
      "Quantum object: dims = [[8], [1]], shape = (8, 1), type = ket\n",
      "Qobj data =\n",
      "[[1.]\n",
      " [0.]\n",
      " [0.]\n",
      " [0.]\n",
      " [0.]\n",
      " [0.]\n",
      " [0.]\n",
      " [0.]]\n"
     ]
    },
    {
     "data": {
      "text/latex": [
       "Quantum object: dims = [[8], [1]], shape = (8, 1), type = ket\\begin{equation*}\\left(\\begin{array}{*{11}c}0.0\\\\0.0\\\\0.0\\\\0.0\\\\0.0\\\\0.0\\\\0.0\\\\0.0\\\\\\end{array}\\right)\\end{equation*}"
      ],
      "text/plain": [
       "Quantum object: dims = [[8], [1]], shape = (8, 1), type = ket\n",
       "Qobj data =\n",
       "[[0.]\n",
       " [0.]\n",
       " [0.]\n",
       " [0.]\n",
       " [0.]\n",
       " [0.]\n",
       " [0.]\n",
       " [0.]]"
      ]
     },
     "execution_count": 50,
     "metadata": {},
     "output_type": "execute_result"
    }
   ],
   "source": [
    "# eliminate last state \n",
    "\n",
    "proj_tnsr = tnsr.eliminate_states([8], normalize=False)\n",
    "print(proj_tnsr)\n",
    "\n",
    "proj_adag = a_dag.eliminate_states([8], normalize=True)\n",
    "#proj_adag\n",
    "\n",
    "proj_adag*proj_adag*proj_tnsr\n",
    "\n",
    "# adag * qeye , qeye * adag\n",
    "# (0, 0) -> (1, 1)  -> (2, 2) == NULL"
   ]
  },
  {
   "cell_type": "code",
   "execution_count": null,
   "metadata": {},
   "outputs": [],
   "source": [
    "# It works!!!"
   ]
  }
 ],
 "metadata": {
  "kernelspec": {
   "display_name": "Python 3",
   "language": "python",
   "name": "python3"
  },
  "language_info": {
   "codemirror_mode": {
    "name": "ipython",
    "version": 3
   },
   "file_extension": ".py",
   "mimetype": "text/x-python",
   "name": "python",
   "nbconvert_exporter": "python",
   "pygments_lexer": "ipython3",
   "version": "3.6.9"
  }
 },
 "nbformat": 4,
 "nbformat_minor": 2
}
