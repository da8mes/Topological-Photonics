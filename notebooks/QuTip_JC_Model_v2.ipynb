{
 "cells": [
  {
   "cell_type": "code",
   "execution_count": 1,
   "metadata": {
    "scrolled": true
   },
   "outputs": [
    {
     "name": "stderr",
     "output_type": "stream",
     "text": [
      "In /home/dawit/.local/lib/python3.6/site-packages/matplotlib/mpl-data/stylelib/_classic_test.mplstyle: \n",
      "The text.latex.preview rcparam was deprecated in Matplotlib 3.3 and will be removed two minor releases later.\n",
      "In /home/dawit/.local/lib/python3.6/site-packages/matplotlib/mpl-data/stylelib/_classic_test.mplstyle: \n",
      "The mathtext.fallback_to_cm rcparam was deprecated in Matplotlib 3.3 and will be removed two minor releases later.\n",
      "In /home/dawit/.local/lib/python3.6/site-packages/matplotlib/mpl-data/stylelib/_classic_test.mplstyle: Support for setting the 'mathtext.fallback_to_cm' rcParam is deprecated since 3.3 and will be removed two minor releases later; use 'mathtext.fallback : 'cm' instead.\n",
      "In /home/dawit/.local/lib/python3.6/site-packages/matplotlib/mpl-data/stylelib/_classic_test.mplstyle: \n",
      "The validate_bool_maybe_none function was deprecated in Matplotlib 3.3 and will be removed two minor releases later.\n",
      "In /home/dawit/.local/lib/python3.6/site-packages/matplotlib/mpl-data/stylelib/_classic_test.mplstyle: \n",
      "The savefig.jpeg_quality rcparam was deprecated in Matplotlib 3.3 and will be removed two minor releases later.\n",
      "In /home/dawit/.local/lib/python3.6/site-packages/matplotlib/mpl-data/stylelib/_classic_test.mplstyle: \n",
      "The keymap.all_axes rcparam was deprecated in Matplotlib 3.3 and will be removed two minor releases later.\n",
      "In /home/dawit/.local/lib/python3.6/site-packages/matplotlib/mpl-data/stylelib/_classic_test.mplstyle: \n",
      "The animation.avconv_path rcparam was deprecated in Matplotlib 3.3 and will be removed two minor releases later.\n",
      "In /home/dawit/.local/lib/python3.6/site-packages/matplotlib/mpl-data/stylelib/_classic_test.mplstyle: \n",
      "The animation.avconv_args rcparam was deprecated in Matplotlib 3.3 and will be removed two minor releases later.\n"
     ]
    }
   ],
   "source": [
    "#Dawit Belayneh; JC Model for cavity rydbergs \n",
    "\n",
    "%matplotlib inline\n",
    "import matplotlib.pyplot as plt\n",
    "import numpy as np\n",
    "from qutip import *\n",
    "\n",
    "# 2-level states \n",
    "\n",
    "spin_up = basis(2,0) \n",
    "spin_down = sigmax() * spin_up \n",
    "\n",
    "# Note: spin_down = (1, 0); spin_up = (0, 1)\n",
    "# doesn't matter for our purposes "
   ]
  },
  {
   "cell_type": "code",
   "execution_count": 2,
   "metadata": {},
   "outputs": [
    {
     "data": {
      "text/plain": [
       "[<matplotlib.lines.Line2D at 0x7f48983cfac8>]"
      ]
     },
     "execution_count": 2,
     "metadata": {},
     "output_type": "execute_result"
    },
    {
     "data": {
      "image/png": "[encoded data removed]",
      "text/plain": [
       "<Figure size 432x288 with 1 Axes>"
      ]
     },
     "metadata": {
      "needs_background": "light"
     },
     "output_type": "display_data"
    }
   ],
   "source": [
    "# JC stuff \n",
    "# example: decay and exchange of 'photon_init' photons between cavity and atom\n",
    "# some parameters \n",
    "\n",
    "#coupling strength \n",
    "g = 30\n",
    "# decay param\n",
    "kappa = 1.4\n",
    "gamma = 6\n",
    "cav_exc_max = 5\n",
    "#\n",
    "prb = 0.2 # probing frequency \n",
    "phot_init = 3 #num of photons in EM bath at start \n",
    "\n",
    "# Hilbert state of cavity and atom \n",
    "# and some init ground states \n",
    "cav0 = basis(cav_exc_max, n = phot_init)\n",
    "qubit0 = sigmam() * basis(2,0) # ground state\n",
    "\n",
    "# sigma plus and minus null when out of bound\n",
    "# basis(2, 0) = up indices work as in cs \n",
    "#print(qubit0)\n",
    "\n",
    "psi0 = tensor([cav0, qubit0]) # |n=2, spin_down>\n",
    "# when tensoring states need []\n",
    "#print(cav0) how does cav work?\n",
    "\n",
    "#useful operatrs and Hamiltonian\n",
    "Id = tensor(qeye(cav_exc_max), qeye(2)) # identity op\n",
    "a = tensor(destroy(cav_exc_max), qeye(2)) # cavity annahilation\n",
    "\n",
    "drive = (a.dag() + a) # drives cavity at needed frequency # drive is weird!\n",
    "qubit_excitations = tensor(qeye(cav_exc_max), (sigmaz()+1)/2)\n",
    "# counts qubit excitations\n",
    "# used to count total photon energy including ones captured by atom\n",
    "\n",
    "exchange = (tensor(create(cav_exc_max), sigmam())); # atom gives up photon\n",
    "exchange = exchange + exchange.dag(); # full exchange\n",
    "# exchange.dag() : atom absorbs photon\n",
    "# the way exchange is defined ==> cavity and atom @ same frequency because \n",
    "# they can exchange.\n",
    "\n",
    "\n",
    "#JC Hamiltonian\n",
    "#g is the cavity atom coupling constant\n",
    "H = prb*drive + g*exchange\n",
    "# H does not count photon energy\n",
    "# note: drive |n> = |n+1> + |n-1> i.e splits num state\n",
    "\n",
    "# list of collapse operators [cavity decay, atomic decay]\n",
    "# gamma controls atomic decay rate \n",
    "# kappa controls photonic decay rate \n",
    "c = [np.sqrt(kappa)*tensor(destroy(cav_exc_max), qeye(2)), np.sqrt(gamma)*tensor(qeye(cav_exc_max), sigmam())]\n",
    "# These operators define dissapation process\n",
    "# They are ops that couple system to environment\n",
    "\n",
    "#basic numbers and plots \n",
    "times = np.linspace(0.0, 2.0, 400)\n",
    "result = mesolve(H, psi0, times, c, [a.dag()*a])\n",
    "\n",
    "fig, ax = plt.subplots()\n",
    "ax.plot(times, result.expect[0])\n",
    "# result.expect[0] is a time-ordered list\n",
    "\n",
    "# In closed JC system Cavity Photon Number \n",
    "# would oscillate between 2 and 1 via Rabi Oscillation\n",
    "# ~ sine squared oscillation (ref. Tong, Applications of Quantum Mechanics).\n",
    "# exp supression comes from dissapation."
   ]
  },
  {
   "cell_type": "code",
   "execution_count": 3,
   "metadata": {},
   "outputs": [
    {
     "name": "stderr",
     "output_type": "stream",
     "text": [
      "/home/dawit/.local/lib/python3.6/site-packages/ipykernel_launcher.py:27: ComplexWarning: Casting complex values to real discards the imaginary part\n"
     ]
    },
    {
     "data": {
      "text/plain": [
       "[<matplotlib.lines.Line2D at 0x7f489424dcf8>]"
      ]
     },
     "execution_count": 3,
     "metadata": {},
     "output_type": "execute_result"
    },
    {
     "data": {
      "image/png": "[encoded data removed]",
      "text/plain": [
       "<Figure size 432x288 with 1 Axes>"
      ]
     },
     "metadata": {
      "needs_background": "light"
     },
     "output_type": "display_data"
    }
   ],
   "source": [
    "# Vaccum Rabi Splitting \n",
    "# assuming cav-atom resonance\n",
    "\n",
    "# parameters \n",
    "g = 30\n",
    "kappa = 1.4 \n",
    "gamma = 6\n",
    "prb = 0.2\n",
    "npts = 101\n",
    "\n",
    "###\n",
    "nphot = np.empty(npts)\n",
    "deltas = np.linspace(1.5*(-g-kappa), 1.5*(g+kappa), npts)\n",
    "\n",
    "for i, delta in enumerate(deltas, start=0):\n",
    "    #Hamiltonian \n",
    "    H = prb*drive + g*exchange + delta*(a.dag()*a + qubit_excitations) \n",
    "    # Now we add energy of photons in cavity and atoms\n",
    "    # @ energy/frequency: delta.   \n",
    "    \n",
    "    # collapse ops [cavity_decay, atomic_decay]\n",
    "    c = [np.sqrt(kappa)*tensor(destroy(cav_exc_max), qeye(2)), \n",
    "         np.sqrt(gamma)*tensor(qeye(cav_exc_max), sigmam())]\n",
    "    \n",
    "    rho_ss = steadystate(H, c , method='direct')\n",
    "    # steadystate density matrix\n",
    "    nphot[i] = np.trace(a.dag()*a*rho_ss)\n",
    "    # expectation of num operator for each delta value \n",
    "    \n",
    "    \n",
    "fig = plt.figure()\n",
    "plt.plot(deltas, nphot)\n",
    "# x-axis: deltas \n",
    "# y-axis: nphot"
   ]
  },
  {
   "cell_type": "markdown",
   "metadata": {},
   "source": [
    "**Where Does the Vaccum Rabi Splitting come from?**\n",
    "\n",
    "*VRS is an effect that becomes prominent **when the coupling between cavity and atom is dominant**. Then, the eigenstates of our system ($H_{JC}$) are no longer the cavity egenstate and atom eigenstates. They are linear supperpositions of the form:* \n",
    "\n",
    "$$|n, down\\rangle \\pm |n-1, up\\rangle$$ \n",
    "\n",
    "*up to a constant **when cavity and atom are at resonance**. (what happens when they're not?)*\n",
    "\n",
    "The code above searches for the energies of the g(exchange) term as they are the steadystate solutions. We see a peak in photon number at those energy values (when delta coincides with the energies). This is because the above linear combinations become eigenstates of the delta(a.dag()a + qubit_excitation) term when the following are satisfied: \n",
    "\n",
    "* n is large enough that n-1 is roughly n, and\n",
    "* delta coincides with the energies of g(exchange) operator \n",
    "\n",
    "We also need that $prb \\ne 0$ to induce some photons? Yes! \n",
    "\n",
    "**The point of this plot is to show that at high g values eigenstates are no longer \n",
    "cavity or atom eigen states but the linear combinations shown above.**"
   ]
  },
  {
   "cell_type": "code",
   "execution_count": 4,
   "metadata": {},
   "outputs": [],
   "source": [
    "# compute the prob of state up as a function of time given\n",
    "# initial state of cavity-atom is coherent state and down\n",
    "\n",
    "# should observe Rabi -> collapse -> revival -> high non-linearity\n",
    "# at times roughly T_rabi, T_collapse, T_revival\n",
    "# count difference in time in units of rabi cycles \n",
    "\n",
    "# To do this figure out how to find projection of psi_t on to \n",
    "# sum_{n} |n, up> (QuTip thing)"
   ]
  },
  {
   "cell_type": "code",
   "execution_count": 5,
   "metadata": {
    "scrolled": true
   },
   "outputs": [
    {
     "name": "stderr",
     "output_type": "stream",
     "text": [
      "/home/dawit/.local/lib/python3.6/site-packages/numpy/core/_asarray.py:83: ComplexWarning: Casting complex values to real discards the imaginary part\n",
      "  return array(a, dtype, copy=False, order=order)\n"
     ]
    },
    {
     "data": {
      "text/plain": [
       "Text(0.5, 1.0, 'g=150 | $\\\\kappa$=1.4 | $\\\\Gamma$=3 | PrbPwr=0.1')"
      ]
     },
     "execution_count": 5,
     "metadata": {},
     "output_type": "execute_result"
    },
    {
     "data": {
      "image/png": "[encoded data removed]",
      "text/plain": [
       "<Figure size 432x288 with 1 Axes>"
      ]
     },
     "metadata": {
      "needs_background": "light"
     },
     "output_type": "display_data"
    }
   ],
   "source": [
    "# g2 stuff \n",
    "# g2: \"probe\" on VRS peak, look for g2 suppression\n",
    "\n",
    "max_time = 5.0\n",
    "time_steps = 100\n",
    "# probe on VRS peak \n",
    "g = 150 # high non-linearity ~ +- g\n",
    "kappa = 1.4\n",
    "gamma = 3\n",
    "prb= 0.1\n",
    "npts = 101 \n",
    "delta = g # i.e around peak (see prev cells)\n",
    "\n",
    "# array of times for calculating evolution after a photon was detected\n",
    "times = np.linspace(0.0, max_time, time_steps)\n",
    "\n",
    "# Hamiltonian\n",
    "H = prb*drive + g*exchange + delta*(a.dag()*a + qubit_excitations)\n",
    "# Note: g = delta here \n",
    "\n",
    "# list of collapse operators [cavity decay, atomic decay]\n",
    "c = [np.sqrt(kappa)*tensor(destroy(cav_exc_max), qeye(2)), \n",
    "     np.sqrt(gamma)*tensor(qeye(cav_exc_max), sigmam())]\n",
    "\n",
    "# prepare options for mesolver to not tidy up small values\n",
    "# we don't want to loose small numbers \n",
    "options = Options(tidy=False)\n",
    "\n",
    "# find steadystate \n",
    "rho_ss = steadystate(H, c, method='direct')\n",
    "\n",
    "#calculate \n",
    "rho_m1 = a * rho_ss * a.dag() # remove one photon\n",
    "norm = np.trace(rho_m1) # normalization factor \n",
    "rho_m1 = a * (rho_ss / norm) * a.dag() # renormalization\n",
    "rho_m1_t = mesolve(H, rho_m1, times, c , [a.dag()*a], options=options)\n",
    "# time evolve renormalized state \n",
    "# and extract <N>, num op\n",
    "\n",
    "#build g2\n",
    "num = rho_m1_t.expect[0] * norm\n",
    "den = np.power(np.trace(a.dag()*a*rho_ss), 2)\n",
    "\n",
    "g2 = num/den\n",
    "\n",
    "# matplotlib\n",
    "fig=plt.figure()\n",
    "plt.plot(times, g2)   \n",
    "plt.xlabel('Time')\n",
    "plt.ylabel('$g^{(2)}$')\n",
    "plt.title('g='+str(g) + ' | $\\kappa$=' + str(kappa) + ' | $\\Gamma$=' + str(gamma) + ' | PrbPwr=' + str(prb))"
   ]
  },
  {
   "cell_type": "markdown",
   "metadata": {},
   "source": [
    "**$g{(2)}$ between steady-state solution of JC and steady-state with one less photon @ cavity-atom resonance**\n",
    "\n",
    "*If the steady state solution was a coherent state, we would have see $g^{(2)}(t) = 1$ as $a \\rho_{ss} a^{\\dagger} = \\rho_{ss}$ for a coherent state.*\n",
    "\n",
    "*Since it takes some finite amount of time for the $g^{(2)}$ to be 1 we see that $\\rho_{ss}$ is not a simple coherent state.*\n",
    "\n",
    "\n",
    "*The dependence of $g^{(2)}(t)$ on the coupling parameter is intersting:*\n",
    "* small g sees the curve fliping and oscillating wildly on its way to 1\n",
    "* medium g sees the curve with a log trend up to 1 with small oscillating features along the curve **Q: why is g(0) = 0?** \n",
    "* high g see the oscillations die out (no new features appear after some high enough g value)\n",
    "\n",
    "**Q: How good is $g^{(2)}(t)$ at indentifyig if $\\rho_{ss}$ is a coherent state?**\n",
    "\n",
    "**Example: $H = N = a^\\dagger a$ with $|\\psi_i\\rangle = |n\\rangle$**\n",
    "\n",
    "Since $[H, N] = 0, N(t) = N(0) = N.$ Then, $g^{(2)}(t)$ is given by: \n",
    "\n",
    "$$g^{(2)}(t) = \\frac{Tr(N \\rho_{n-1})}{Tr(N \\rho_n)^2} = 1 - \\frac{1}{n}.$$\n",
    "\n",
    "For $n = 1, g = 0$ but for a coherent state $g = 1$. So, $$0 = g^{(2)}_{n = 1}(t) \\le g^{(2)}(t) \\le g^{(2)}_{coh}(t) = 1$$\n",
    "\n",
    "**1 is an upper bound of $g^2(t)$ only for this Hamiltonian.**"
   ]
  },
  {
   "cell_type": "code",
   "execution_count": 6,
   "metadata": {},
   "outputs": [
    {
     "name": "stderr",
     "output_type": "stream",
     "text": [
      "/home/dawit/.local/lib/python3.6/site-packages/ipykernel_launcher.py:35: ComplexWarning: Casting complex values to real discards the imaginary part\n"
     ]
    },
    {
     "data": {
      "text/plain": [
       "Text(0, 0.5, '$g^{(2)}$')"
      ]
     },
     "execution_count": 6,
     "metadata": {},
     "output_type": "execute_result"
    },
    {
     "data": {
      "image/png": "[encoded data removed]",
      "text/plain": [
       "<Figure size 432x288 with 1 Axes>"
      ]
     },
     "metadata": {
      "needs_background": "light"
     },
     "output_type": "display_data"
    },
    {
     "data": {
      "image/png": "[encoded data removed]",
      "text/plain": [
       "<Figure size 432x288 with 1 Axes>"
      ]
     },
     "metadata": {
      "needs_background": "light"
     },
     "output_type": "display_data"
    },
    {
     "data": {
      "image/png": "[encoded data removed]",
      "text/plain": [
       "<Figure size 432x288 with 1 Axes>"
      ]
     },
     "metadata": {
      "needs_background": "light"
     },
     "output_type": "display_data"
    }
   ],
   "source": [
    "# what is g2(0) as a function of the co-operativity?\n",
    "\n",
    "# what does co-operativity measure? \n",
    "\n",
    "# g2: probe on VRS peak, look for g2 supression \n",
    "\n",
    "max_time = 5.0 \n",
    "\n",
    "gexp = np.linspace(0.0, 4.0, 100)\n",
    "g = 10 ** gexp\n",
    "kappa = 1.4\n",
    "gamma = 3\n",
    "prb = 0.2\n",
    "delta = g # on VRS peak \n",
    "\n",
    "# array of times for calculating evolution after removing\n",
    "# a photon \n",
    "times = np.linspace(0.0, max_time, time_steps)\n",
    "\n",
    "g2 = 0*g # list of zeros as of now \n",
    "for i, thisg in enumerate(g):\n",
    "    H = prb*drive + thisg*exchange + delta[i]*(a.dag()*a + qubit_excitations)\n",
    "    # list of collapse operators [cavity decay, atomic decay]\n",
    "    c = [np.sqrt(kappa)*tensor(destroy(cav_exc_max), qeye(2)), \n",
    "         np.sqrt(gamma)*tensor(qeye(cav_exc_max), sigmam())]\n",
    "    \n",
    "    # calculate steady state \n",
    "    rho_ss = steadystate(H, c, method='direct')\n",
    "    # calculate g2(0)\n",
    "    rho_m1 = a * rho_ss * a.dag()\n",
    "    norm = np.trace(rho_m1)\n",
    "    rho_m1 = a * (rho_ss / norm) * a.dag()\n",
    "    num = np.trace(a.dag()*a*(rho_m1 * norm))\n",
    "    den = np.power(np.trace(a.dag()*a*rho_ss), 2)\n",
    "    g2[i] = num/den \n",
    "    \n",
    "# we just computed the g2 values for a various values of g \n",
    "# @ VRS peak, that is @ deta = g.\n",
    "\n",
    "fig10 = plt.figure()\n",
    "eta = 4*g**2/kappa/gamma # what is eta (list of values)?\n",
    "plt.semilogx(eta, g2*eta) # semilogx : x-axis is log val \n",
    "plt.ylabel('$\\eta \\cdot g^{(2)}(0)$')\n",
    "plt.xlabel('$\\eta$')\n",
    "\n",
    "fig20 = plt.figure()\n",
    "eta = 4*g**2/kappa/gamma\n",
    "plt.loglog(eta, g2) # loglog : x,y-axis log vals \n",
    "plt.ylabel('$g^{(2)}(0)$')\n",
    "plt.xlabel('$\\eta$')\n",
    "\n",
    "fig=plt.figure()\n",
    "plt.semilogx(g, g2)   \n",
    "plt.xlabel('g')\n",
    "plt.ylabel('$g^{(2)}$')"
   ]
  },
  {
   "cell_type": "code",
   "execution_count": 7,
   "metadata": {},
   "outputs": [
    {
     "name": "stdout",
     "output_type": "stream",
     "text": [
      "(0.9999965828995363+0j)\n"
     ]
    },
    {
     "name": "stderr",
     "output_type": "stream",
     "text": [
      "/home/dawit/.local/lib/python3.6/site-packages/numpy/core/_asarray.py:83: ComplexWarning: Casting complex values to real discards the imaginary part\n",
      "  return array(a, dtype, copy=False, order=order)\n"
     ]
    },
    {
     "data": {
      "text/plain": [
       "Text(0.5, 1.0, 'g=0 | $\\\\kappa$=1.4 | $\\\\Gamma$=3 | PrbPwr=0.1')"
      ]
     },
     "execution_count": 7,
     "metadata": {},
     "output_type": "execute_result"
    },
    {
     "data": {
      "image/png": "[encoded data removed]",
      "text/plain": [
       "<Figure size 432x288 with 1 Axes>"
      ]
     },
     "metadata": {
      "needs_background": "light"
     },
     "output_type": "display_data"
    }
   ],
   "source": [
    "# g2 for drive only hamiltonian \n",
    "# Expect: g2(0) = 1 should be exactly one\n",
    "# but that doesn't make sense as a.dag() term \n",
    "# will not have coherent states as eigen-states\n",
    "\n",
    "max_time = 100\n",
    "time_steps = 100\n",
    "g = 0\n",
    "kappa = 1.4\n",
    "gamma = 3\n",
    "prb = 0.1\n",
    "npts = 101\n",
    "delta = g \n",
    "\n",
    "times = np.linspace(0.0, max_time, time_steps)\n",
    "\n",
    "# Hamiltonian \n",
    "H = prb*drive \n",
    "\n",
    "# list of collapse operators [cavity decay, atomic decay]\n",
    "c = [np.sqrt(kappa)*tensor(destroy(cav_exc_max), qeye(2)), \n",
    "     np.sqrt(gamma)*tensor(qeye(cav_exc_max), sigmam())]\n",
    "\n",
    "# prepare options for mesolver to not tidy up small values\n",
    "# we don't want to loose small numbers \n",
    "options = Options(tidy=False)\n",
    "\n",
    "# steady state \n",
    "rho_ss = steadystate(H, c, method='direct')\n",
    "\n",
    "# calculate time evolition after removing a photon\n",
    "rho_m1 = a * rho_ss * a.dag() # remove one photon from SS\n",
    "norm = np.trace(rho_m1) # normalization factor \n",
    "rho_m1 = a * (rho_ss / norm) * a.dag() # renormalize SS\n",
    "rho_m1_t = mesolve(H, rho_m1, times, c, [a.dag()*a], options=options)\n",
    "# time evolve renormalized state \n",
    "# and extract <N> , num op\n",
    "\n",
    "# build g2\n",
    "num = rho_m1_t.expect[0] * norm  \n",
    "den = np.power(np.trace(a.dag()*a*rho_ss), 2)\n",
    "\n",
    "\n",
    "g2 = num/den \n",
    "print(g2[0])\n",
    "\n",
    "# matplotlib\n",
    "fig=plt.figure()\n",
    "plt.plot(times, g2)   \n",
    "plt.xlabel('Time')\n",
    "plt.ylabel('$g^{(2)}$')\n",
    "plt.title('g='+str(g) + ' | $\\kappa$=' + str(kappa) + ' | $\\Gamma$=' + str(gamma) + ' | PrbPwr=' + str(prb))"
   ]
  },
  {
   "cell_type": "code",
   "execution_count": 9,
   "metadata": {},
   "outputs": [
    {
     "name": "stdout",
     "output_type": "stream",
     "text": [
      "Quantum object: dims = [[5, 2], [5, 2]], shape = (10, 10), type = oper, isherm = True\n",
      "Qobj data =\n",
      "[[ 0.00000000e+00+0.00000000e+00j  0.00000000e+00+0.00000000e+00j\n",
      "   0.00000000e+00+0.00000000e+00j  0.00000000e+00+0.00000000e+00j\n",
      "   0.00000000e+00+0.00000000e+00j  0.00000000e+00+0.00000000e+00j\n",
      "   0.00000000e+00+0.00000000e+00j  0.00000000e+00+0.00000000e+00j\n",
      "   0.00000000e+00+0.00000000e+00j  0.00000000e+00+0.00000000e+00j]\n",
      " [ 0.00000000e+00+0.00000000e+00j  9.79798674e-01+0.00000000e+00j\n",
      "   0.00000000e+00+0.00000000e+00j  0.00000000e+00+1.39971238e-01j\n",
      "   0.00000000e+00+0.00000000e+00j -1.41392253e-02+0.00000000e+00j\n",
      "   0.00000000e+00+0.00000000e+00j  0.00000000e+00-1.16614338e-03j\n",
      "   0.00000000e+00+0.00000000e+00j  8.28731333e-05+0.00000000e+00j]\n",
      " [ 0.00000000e+00+0.00000000e+00j  0.00000000e+00+0.00000000e+00j\n",
      "   0.00000000e+00+0.00000000e+00j  0.00000000e+00+0.00000000e+00j\n",
      "   0.00000000e+00+0.00000000e+00j  0.00000000e+00+0.00000000e+00j\n",
      "   0.00000000e+00+0.00000000e+00j  0.00000000e+00+0.00000000e+00j\n",
      "   0.00000000e+00+0.00000000e+00j  0.00000000e+00+0.00000000e+00j]\n",
      " [ 0.00000000e+00+0.00000000e+00j  0.00000000e+00-1.39971238e-01j\n",
      "   0.00000000e+00+0.00000000e+00j  1.99958912e-02+0.00000000e+00j\n",
      "   0.00000000e+00+0.00000000e+00j  0.00000000e+00+2.01988932e-03j\n",
      "   0.00000000e+00+0.00000000e+00j -1.66591911e-04+0.00000000e+00j\n",
      "   0.00000000e+00+0.00000000e+00j  0.00000000e+00-1.18390190e-05j]\n",
      " [ 0.00000000e+00+0.00000000e+00j  0.00000000e+00+0.00000000e+00j\n",
      "   0.00000000e+00+0.00000000e+00j  0.00000000e+00+0.00000000e+00j\n",
      "   0.00000000e+00+0.00000000e+00j  0.00000000e+00+0.00000000e+00j\n",
      "   0.00000000e+00+0.00000000e+00j  0.00000000e+00+0.00000000e+00j\n",
      "   0.00000000e+00+0.00000000e+00j  0.00000000e+00+0.00000000e+00j]\n",
      " [ 0.00000000e+00+0.00000000e+00j -1.41392253e-02+0.00000000e+00j\n",
      "   0.00000000e+00+0.00000000e+00j  0.00000000e+00-2.01988932e-03j\n",
      "   0.00000000e+00+0.00000000e+00j  2.04039634e-04+0.00000000e+00j\n",
      "   0.00000000e+00+0.00000000e+00j  0.00000000e+00+1.68283243e-05j\n",
      "   0.00000000e+00+0.00000000e+00j -1.19592152e-06+0.00000000e+00j]\n",
      " [ 0.00000000e+00+0.00000000e+00j  0.00000000e+00+0.00000000e+00j\n",
      "   0.00000000e+00+0.00000000e+00j  0.00000000e+00+0.00000000e+00j\n",
      "   0.00000000e+00+0.00000000e+00j  0.00000000e+00+0.00000000e+00j\n",
      "   0.00000000e+00+0.00000000e+00j  0.00000000e+00+0.00000000e+00j\n",
      "   0.00000000e+00+0.00000000e+00j  0.00000000e+00+0.00000000e+00j]\n",
      " [ 0.00000000e+00+0.00000000e+00j  0.00000000e+00+1.16614338e-03j\n",
      "   0.00000000e+00+0.00000000e+00j -1.66591911e-04+0.00000000e+00j\n",
      "   0.00000000e+00+0.00000000e+00j  0.00000000e+00-1.68283243e-05j\n",
      "   0.00000000e+00+0.00000000e+00j  1.38797679e-06+0.00000000e+00j\n",
      "   0.00000000e+00+0.00000000e+00j  0.00000000e+00+9.86379446e-08j]\n",
      " [ 0.00000000e+00+0.00000000e+00j  0.00000000e+00+0.00000000e+00j\n",
      "   0.00000000e+00+0.00000000e+00j  0.00000000e+00+0.00000000e+00j\n",
      "   0.00000000e+00+0.00000000e+00j  0.00000000e+00+0.00000000e+00j\n",
      "   0.00000000e+00+0.00000000e+00j  0.00000000e+00+0.00000000e+00j\n",
      "   0.00000000e+00+0.00000000e+00j  0.00000000e+00+0.00000000e+00j]\n",
      " [ 0.00000000e+00+0.00000000e+00j  8.28731333e-05+0.00000000e+00j\n",
      "   0.00000000e+00+0.00000000e+00j  0.00000000e+00+1.18390190e-05j\n",
      "   0.00000000e+00+0.00000000e+00j -1.19592152e-06+0.00000000e+00j\n",
      "   0.00000000e+00+0.00000000e+00j  0.00000000e+00-9.86379446e-08j\n",
      "   0.00000000e+00+0.00000000e+00j  7.04556747e-09+0.00000000e+00j]]\n",
      "(0.9999965828995362+0j)\n"
     ]
    },
    {
     "name": "stderr",
     "output_type": "stream",
     "text": [
      "/home/dawit/.local/lib/python3.6/site-packages/numpy/core/_asarray.py:83: ComplexWarning: Casting complex values to real discards the imaginary part\n",
      "  return array(a, dtype, copy=False, order=order)\n"
     ]
    },
    {
     "data": {
      "text/plain": [
       "Text(0.5, 1.0, 'g=0 | $\\\\kappa$=1.4 | $\\\\Gamma$=3 | PrbPwr=0.1')"
      ]
     },
     "execution_count": 9,
     "metadata": {},
     "output_type": "execute_result"
    },
    {
     "data": {
      "image/png": "[encoded data removed]",
      "text/plain": [
       "<Figure size 432x288 with 1 Axes>"
      ]
     },
     "metadata": {
      "needs_background": "light"
     },
     "output_type": "display_data"
    }
   ],
   "source": [
    "# Just a test that coherence_function_g2(...) works\n",
    "#\n",
    "# g2 for drive only hamiltonian \n",
    "# Expect: g2(0) = 1 should be exactly one\n",
    "# but that doesn't make sense as a.dag() term \n",
    "# will not have coherent states as eigen-states\n",
    "#\n",
    "\n",
    "max_time = 100\n",
    "time_steps = 100\n",
    "g = 0\n",
    "kappa = 1.4\n",
    "gamma = 3\n",
    "prb = 0.1\n",
    "npts = 101\n",
    "delta = g \n",
    "\n",
    "times = np.linspace(0.0, max_time, time_steps)\n",
    "\n",
    "# Hamiltonian \n",
    "H = prb*drive \n",
    "\n",
    "# list of collapse operators [cavity decay, atomic decay]\n",
    "c = [np.sqrt(kappa)*tensor(destroy(cav_exc_max), qeye(2)), \n",
    "     np.sqrt(gamma)*tensor(qeye(cav_exc_max), sigmam())]\n",
    "\n",
    "# prepare options for mesolver to not tidy up small values\n",
    "# we don't want to loose small numbers \n",
    "options = Options(tidy=False)\n",
    "\n",
    "# steady state \n",
    "rho_ss = steadystate(H, c, method='direct')\n",
    "print(rho_ss)\n",
    "\n",
    "g2_t = coherence_function_g2(H, rho_ss, times, c, a)[0] # return normalized g2\n",
    "print(g2_t[0])\n",
    "\n",
    "# matplotlib\n",
    "fig=plt.figure()\n",
    "plt.plot(times, g2)   \n",
    "plt.xlabel('Time')\n",
    "plt.ylabel('$g^{(2)}$')\n",
    "plt.title('g='+str(g) + ' | $\\kappa$=' + str(kappa) + ' | $\\Gamma$=' + str(gamma) + ' | PrbPwr=' + str(prb))"
   ]
  },
  {
   "cell_type": "code",
   "execution_count": null,
   "metadata": {},
   "outputs": [],
   "source": []
  }
 ],
 "metadata": {
  "kernelspec": {
   "display_name": "Python 3",
   "language": "python",
   "name": "python3"
  },
  "language_info": {
   "codemirror_mode": {
    "name": "ipython",
    "version": 3
   },
   "file_extension": ".py",
   "mimetype": "text/x-python",
   "name": "python",
   "nbconvert_exporter": "python",
   "pygments_lexer": "ipython3",
   "version": "3.6.9"
  }
 },
 "nbformat": 4,
 "nbformat_minor": 2
}
