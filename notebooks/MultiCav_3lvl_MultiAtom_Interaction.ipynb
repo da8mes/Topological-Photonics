{
 "cells": [
  {
   "cell_type": "code",
   "execution_count": 1,
   "metadata": {},
   "outputs": [
    {
     "name": "stderr",
     "output_type": "stream",
     "text": [
      "In /home/dawit/.local/lib/python3.6/site-packages/matplotlib/mpl-data/stylelib/_classic_test.mplstyle: \n",
      "The text.latex.preview rcparam was deprecated in Matplotlib 3.3 and will be removed two minor releases later.\n",
      "In /home/dawit/.local/lib/python3.6/site-packages/matplotlib/mpl-data/stylelib/_classic_test.mplstyle: \n",
      "The mathtext.fallback_to_cm rcparam was deprecated in Matplotlib 3.3 and will be removed two minor releases later.\n",
      "In /home/dawit/.local/lib/python3.6/site-packages/matplotlib/mpl-data/stylelib/_classic_test.mplstyle: Support for setting the 'mathtext.fallback_to_cm' rcParam is deprecated since 3.3 and will be removed two minor releases later; use 'mathtext.fallback : 'cm' instead.\n",
      "In /home/dawit/.local/lib/python3.6/site-packages/matplotlib/mpl-data/stylelib/_classic_test.mplstyle: \n",
      "The validate_bool_maybe_none function was deprecated in Matplotlib 3.3 and will be removed two minor releases later.\n",
      "In /home/dawit/.local/lib/python3.6/site-packages/matplotlib/mpl-data/stylelib/_classic_test.mplstyle: \n",
      "The savefig.jpeg_quality rcparam was deprecated in Matplotlib 3.3 and will be removed two minor releases later.\n",
      "In /home/dawit/.local/lib/python3.6/site-packages/matplotlib/mpl-data/stylelib/_classic_test.mplstyle: \n",
      "The keymap.all_axes rcparam was deprecated in Matplotlib 3.3 and will be removed two minor releases later.\n",
      "In /home/dawit/.local/lib/python3.6/site-packages/matplotlib/mpl-data/stylelib/_classic_test.mplstyle: \n",
      "The animation.avconv_path rcparam was deprecated in Matplotlib 3.3 and will be removed two minor releases later.\n",
      "In /home/dawit/.local/lib/python3.6/site-packages/matplotlib/mpl-data/stylelib/_classic_test.mplstyle: \n",
      "The animation.avconv_args rcparam was deprecated in Matplotlib 3.3 and will be removed two minor releases later.\n"
     ]
    },
    {
     "data": {
      "text/plain": [
       "<module 'Wavefunctions' from '/home/dawit/Desktop/TopPhotonics/Wavefunctions.py'>"
      ]
     },
     "execution_count": 1,
     "metadata": {},
     "output_type": "execute_result"
    }
   ],
   "source": [
    "# 3 cavity modes, 3lvl, multiAtom, Interactions\n",
    "\n",
    "%matplotlib inline\n",
    "import matplotlib.pyplot as plt\n",
    "import numpy as np\n",
    "from scipy.signal import chirp, find_peaks, peak_widths\n",
    "from qutip import *\n",
    "import time\n",
    "import itertools \n",
    "import pickle\n",
    "\n",
    "# parameter integrators \n",
    "import EFTParams\n",
    "import Integrands\n",
    "import Wavefunctions\n",
    "import importlib\n",
    "importlib.reload(EFTParams)\n",
    "importlib.reload(Integrands)\n",
    "importlib.reload(Wavefunctions)"
   ]
  },
  {
   "cell_type": "code",
   "execution_count": 2,
   "metadata": {},
   "outputs": [],
   "source": [
    "# for saving and loading param dictionaries\n",
    "def save_obj(obj, name):\n",
    "    with open('obj/'+ name + '.pkl', 'wb') as f:\n",
    "        pickle.dump(obj, f, pickle.HIGHEST_PROTOCOL)\n",
    "\n",
    "def load_obj(name):\n",
    "    print('atempting to load: ', name)\n",
    "    with open('obj/' + name + '.pkl', 'rb') as f:\n",
    "        return pickle.load(f)\n",
    "    \n",
    "def computeU(epsabs, epsrel, wf, H, C6, w, modes, name):\n",
    "    print('Computing U with H: ', str(H))\n",
    "    U = { }\n",
    "    indxs = itertools.product(modes, repeat = 4)\n",
    "    for indx in indxs:\n",
    "        # get interaction value from Logan code\n",
    "        \n",
    "        if (indx[0] >= indx[1]) and (indx[2] >= indx[3]):\n",
    "        \n",
    "            feed = [(i,) for i in indx]\n",
    "            U[indx] = EFTParams.U_parameter(wf, feed, C6, w, H, epsabs=epsabs, epsrel=epsrel)\n",
    "\n",
    "    save_obj(U, name)\n",
    "    print('finished computing and saving as: ', name)\n",
    "    \n",
    "    return U\n",
    "    \n",
    "def indicesToRemove(ntensor, ncav, max_exc=2):\n",
    "    \n",
    "    # (2, 0, ...) ==> 2(3^8) th index \n",
    "    # (1, 1, 0, ....) ==> 3^8 + 3^7 th index \n",
    "    \n",
    "    zeros = ntensor*[0]\n",
    "    states = [zeros]\n",
    "    for i in range(ntensor): \n",
    "        twos = ntensor*[0]\n",
    "        twos[i] = 2 # hard coded for now\n",
    "        \n",
    "        ones = ntensor*[0]\n",
    "        ones[i] = 1\n",
    "        \n",
    "        states.append(twos)\n",
    "        states.append(ones)\n",
    "\n",
    "        for j in range(i): \n",
    "            one2s = ntensor*[0]    \n",
    "            one2s[i] = 1\n",
    "            one2s[j] = 1\n",
    "            states.append(one2s)\n",
    "    \n",
    "    keep = []    \n",
    "    # compute index for given state\n",
    "    for state in states:\n",
    "        # state = [1, 1, 0, 0, 0,..., 0] and so on\n",
    "        indx = 0\n",
    "        for i in range(ntensor):\n",
    "            val = state[i]\n",
    "            indx += val*(ncav**(ntensor - 1 - i))\n",
    "            \n",
    "        keep.append(indx)\n",
    "    \n",
    "    total = list(range(ncav ** ntensor))\n",
    "    remove = [i for i in total if i not in keep]\n",
    "    \n",
    "    return remove\n",
    "\n",
    "def projectOP(op, indices_remove):\n",
    "    \n",
    "    projected_op = op.eliminate_states(indices_remove, normalize=False)\n",
    "    \n",
    "    return projected_op"
   ]
  },
  {
   "cell_type": "code",
   "execution_count": 3,
   "metadata": {},
   "outputs": [
    {
     "name": "stdout",
     "output_type": "stream",
     "text": [
      "size of initial state:  55\n",
      "Initializing operators ...\n",
      "size of a[0]:  (55, 55)\n",
      "size of p[0]:  (55, 55)\n",
      "size of r[0]:  (55, 55)\n",
      "size of pexchange[0]:  (55, 55)\n",
      "size of rexchange[0]:  (55, 55)\n",
      "opertors initialized.\n"
     ]
    }
   ],
   "source": [
    "# Modeling multiple cavity modes with interaction term\n",
    "\n",
    "# When it is time to do computations,\n",
    "# we want no more than 2 excitations at any of the channels at any given time\n",
    "\n",
    "### \n",
    "# c0, p0, r0 ; c1, p1, r1 ; c2, p2, r2 (9 modes)\n",
    "# we allow at most 2 excitations ==>\n",
    "# 1 + 2*9 + 9^2/2 = 55 states \n",
    "###\n",
    "\n",
    "cav_modes = 3 # num of cav modes\n",
    "cav_max = 3 # this means can have 0, 1 or 2 photons per mode \n",
    "max_excitations = 2 # maximum total excitations allowed in system\n",
    "phot_init = 0\n",
    "\n",
    "remove = indicesToRemove(9, 3)\n",
    "\n",
    "# generic initial state\n",
    "cav0 = basis(cav_max, n = phot_init)\n",
    "p0 = basis(cav_max, n = phot_init)\n",
    "r0 = basis(cav_max, n = phot_init)\n",
    "#\n",
    "cav = tensor([cav0 for i in range(cav_modes)])\n",
    "exc = tensor([p0 for i in range(cav_modes)]) \n",
    "ryd = tensor([r0 for i in range(cav_modes)])\n",
    "#\n",
    "psi0 = projectOP(tensor([cav, exc, ryd]), remove)\n",
    "\n",
    "print('size of initial state: ', psi0.shape[0])\n",
    "\n",
    "# collective bosonic a, p, r state destruction_ops\n",
    "# list representation of operators to be tensored later\n",
    "print('Initializing operators ...')\n",
    "Id_cav = [qeye(cav_max) for i in range(cav_modes)]\n",
    "Id_p = Id_cav\n",
    "Id_r = Id_cav\n",
    "\n",
    "\n",
    "a = ['' for i in range(cav_modes)] # to be populated by a0, a1, a2\n",
    "p = ['' for i in range(cav_modes)] # to be populated by p0, p1, p2\n",
    "r = ['' for i in range(cav_modes)] # to be populated by r0, r1, r2\n",
    "\n",
    "# populate a\n",
    "for i in range(cav_modes):\n",
    "    temp = [qeye(cav_max) for j in range(cav_modes)]\n",
    "    temp[i] = destroy(cav_max)\n",
    "    temp = temp + Id_p + Id_r\n",
    "    #a[i] = tensor(temp)    \n",
    "    a[i] = projectOP(tensor(temp), remove)\n",
    "    \n",
    "print('size of a[0]: ', a[0].shape)\n",
    "    \n",
    "# populate p\n",
    "temp = []\n",
    "for i in range(cav_modes):\n",
    "    temp = [qeye(cav_max) for j in range(cav_modes)]\n",
    "    temp[i] = destroy(cav_max)\n",
    "    temp = Id_cav + temp + Id_r\n",
    "    #p[i] = tensor(temp)\n",
    "    p[i] = projectOP(tensor(temp), remove)\n",
    "    \n",
    "print('size of p[0]: ', p[0].shape)\n",
    "\n",
    "# populate r  \n",
    "temp = []\n",
    "for i in range(cav_modes):\n",
    "    temp = [qeye(cav_max) for j in range(cav_modes)]\n",
    "    temp[i] = destroy(cav_max)\n",
    "    temp = Id_cav + Id_p + temp\n",
    "    #r[i] = tensor(temp)\n",
    "    r[i] = projectOP(tensor(temp), remove)\n",
    "    \n",
    "print('size of r[0]: ', r[0].shape)\n",
    "    \n",
    "temp = []\n",
    "    \n",
    "# cav-p exchange, p-r exchange, drive\n",
    "pexchange = [(p[i].dag()*a[i] + a[i].dag()*p[i]) for i in range(cav_modes)]\n",
    "print('size of pexchange[0]: ', pexchange[0].shape)\n",
    "rexchange = [(r[i].dag()*p[i] + p[i].dag()*r[i]) for i in range(cav_modes)] \n",
    "print('size of rexchange[0]: ', rexchange[0].shape)\n",
    "\n",
    "\n",
    "print('opertors initialized.')"
   ]
  },
  {
   "cell_type": "code",
   "execution_count": 4,
   "metadata": {},
   "outputs": [],
   "source": [
    "# parameters placeholders\n",
    "c = [1, 1, 1]\n",
    "delta_c = [1, 1, 1]\n",
    "delta_e = 1\n",
    "delta_2 = 1\n",
    "G = [1, 1, 1] \n",
    "omega = 1\n",
    "prb = 0.3 \n",
    "\n",
    "# decay params\n",
    "kappa = 1.4\n",
    "gamma = 6\n",
    "gamma_r = 0.1\n",
    "\n",
    "# collapse operators\n",
    "# NOTE: each mode gets its own collapse operator \n",
    "# but the decay param is identical for all modes\n",
    "c_phot = [np.sqrt(kappa)*a_k for a_k in a]\n",
    "c_p = [np.sqrt(gamma)*p_k for p_k in p]\n",
    "c_r =  [np.sqrt(gamma_r)*r_k for r_k in r]\n",
    "\n",
    "collapse = c_phot + c_p + c_r"
   ]
  },
  {
   "cell_type": "code",
   "execution_count": 5,
   "metadata": {},
   "outputs": [],
   "source": [
    "def g2(rho, H, dest, times, c=collapse, options=Options(tidy=False)):\n",
    "    rho_m1 = dest * rho * dest.dag()\n",
    "    norm = np.trace(rho_m1)\n",
    "    rho_m1 = dest * (rho/norm) * dest.dag()\n",
    "    rho_m1_t = mesolve(H, rho_m1, times, c, [dest.dag()*dest], options=options)\n",
    "    \n",
    "    num = rho_m1_t.expect[0] * norm\n",
    "    den = np.power(np.trace(dest.dag()*dest*rho), 2)\n",
    "    \n",
    "    return num/den\n",
    "\n",
    "def g2_mixed(rho, H, dest1, dest2, times, c=collapse, options=Options(tidy=False)):\n",
    "    rho_m1 = dest1 * rho * dest1.dag()\n",
    "    norm = np.trace(rho_m1)\n",
    "    rho_m1 = dest1 * (rho/norm) * dest1.dag()\n",
    "    rho_m1_t = mesolve(H, rho_m1, times, c, [dest2.dag()*dest2], options=options)\n",
    "    \n",
    "    num = rho_m1_t.expect[0] * norm\n",
    "    den = np.trace(dest1.dag()*dest1*rho) * np.trace(dest2.dag()*dest2*rho) # should there be a t evolution here?  \n",
    "    \n",
    "    return num/den\n",
    "\n",
    "# calculate H_eff given params\n",
    "def H_eff(c, delta_c, delta_e, delta_2, G, omega, prb):\n",
    "    # Effective Hamiltonian\n",
    "\n",
    "    tot_drive = sum([c_k*a_k for c_k, a_k in zip(c, a)])\n",
    "    tot_drive = prb*(tot_drive + tot_drive.dag())\n",
    "    \n",
    "    tot_phot = sum([coeff*op.dag()*op for coeff, op in zip(delta_c,a)])\n",
    "    tot_p = delta_e * sum([op.dag()*op for op in p])\n",
    "    tot_r = delta_2 * sum([op.dag()*op for op in r])\n",
    "    \n",
    "    tot_pexchange = sum([coeff*op for coeff, op in zip(G,pexchange)])\n",
    "    tot_rexchange = omega * sum(rexchange)\n",
    "\n",
    "    H_eff = tot_drive + tot_phot + tot_p + tot_r + tot_pexchange + tot_rexchange\n",
    "    \n",
    "    return H_eff\n",
    "\n",
    "\n",
    "def H_eff_2(c, delta_c, delta_e, delta_2, G, omega, prb):\n",
    "    # Effective Hamiltonian\n",
    "    \n",
    "    # project first \n",
    "    remove = indicesToRemove(9, 3)\n",
    "    ap = [projectOP(i, remove) for i in a]\n",
    "    pp = [projectOP(i, remove) for i in p]\n",
    "    rp = [projectOP(i, remove) for i in r]\n",
    "    pexchangep = [projectOP(i, remove) for i in pexchange]\n",
    "    rexchangep = [projectOP(i, remove) for i in rexchange]\n",
    "    #\n",
    "    \n",
    "    tot_drive = sum([c_k*a_k for c_k, a_k in zip(c, ap)])\n",
    "    tot_drive = prb*(tot_drive + tot_drive.dag())\n",
    "    \n",
    "    tot_phot = sum([coeff*op.dag()*op for coeff, op in zip(delta_c,ap)])\n",
    "    tot_p = delta_e * sum([op.dag()*op for op in pp])\n",
    "    tot_r = delta_2 * sum([op.dag()*op for op in rp])\n",
    "    \n",
    "    tot_pexchange = sum([coeff*op for coeff, op in zip(G,pexchangep)])\n",
    "    tot_rexchange = omega * sum(rexchangep)\n",
    "\n",
    "    H_eff = tot_drive + tot_phot + tot_p + tot_r + tot_pexchange + tot_rexchange\n",
    "    \n",
    "    return H_eff\n",
    "\n",
    "#def H_ryd_int(cav_modes, U):\n",
    "#    # build indices\n",
    "#    temp = []\n",
    "#    for a in range(cav_modes):\n",
    "#        for b in range(a+1):\n",
    "#            temp.append((a,b))\n",
    "            \n",
    "#    indxs = []\n",
    "#    for x in temp:\n",
    "#        for y in temp:\n",
    "#            indxs.append(tuple(list(x + y)))\n",
    "            \n",
    "#    #print(indxs)\n",
    "            \n",
    "#    H_ryd_int = sum([U[indx]*r[indx[0]].dag()*r[indx[1]].dag()*r[indx[2]]*r[indx[3]] for indx in indxs])\n",
    "    \n",
    "#    return H_ryd_int\n",
    "\n",
    "# del_omega == np.ones((Ncav, Ncav, Ncav, Ncav))\n",
    "#def H_exch_int(cav_modes, del_omega):\n",
    "#    # build indices \n",
    "#    first = []\n",
    "#    for a in range(cav_modes):\n",
    "#        for b in range(a+1):\n",
    "#            first.append((a,b))\n",
    "#            \n",
    "#    second = []\n",
    "#    for c in range(cav_modes):\n",
    "#        for d in range(cav_modes):\n",
    "#            second.append((c,d))\n",
    "#    \n",
    "#    indxs = []\n",
    "#    for x in first:\n",
    "#        for y in second:\n",
    "#            indxs.append(tuple(list(x + y)))\n",
    "            \n",
    "#    #print(indxs)\n",
    "    \n",
    "#    H_exch_int = sum([del_omega[indx]*r[indx[0]].dag()*r[indx[1]].dag()*r[indx[2]]*p[indx[3]] for indx in indxs])\n",
    "#    H_exch_int += H_exch_int.dag()\n",
    "#    \n",
    "#    return H_exch_int \n",
    "\n",
    "# DICT IMPLEMENTATIONS\n",
    "def H_ryd_int(U):\n",
    "    \n",
    "    # remove repeated indices from U\n",
    "    \n",
    "    H = 0\n",
    "    for indx in U.keys():\n",
    "        \n",
    "        if not (indx[0] >= indx[1]) and (indx[2] >= indx[3]):\n",
    "            print('indexing problem!')\n",
    "            pass \n",
    "        \n",
    "        H += U[indx]*r[indx[0]].dag()*r[indx[1]].dag()*r[indx[2]]*r[indx[3]]\n",
    "                                                                            \n",
    "    return H\n",
    "\n",
    "def H_exch_int(full_del_omega):\n",
    "    \n",
    "    # remove repeated indices from del_omega\n",
    "    \n",
    "    old_keys = full_del_omega.keys()\n",
    "    new_keys = set( tuple(sorted(k)) for k in old_keys)\n",
    "    \n",
    "    del_omega = {k : full_del_omega[k] for k in new_keys}\n",
    "    \n",
    "    H = 0\n",
    "    for indx in del_omega.keys():\n",
    "        H  += del_omega[indx]*r[indx[0]].dag()*r[indx[1]].dag()*r[indx[2]]*p[indx[3]]\n",
    "    \n",
    "    H += H.dag()\n",
    "                                                                            \n",
    "    return H"
   ]
  },
  {
   "cell_type": "code",
   "execution_count": 6,
   "metadata": {},
   "outputs": [
    {
     "name": "stdout",
     "output_type": "stream",
     "text": [
      "g2(0):  (0.040914789576657694+0j)\n"
     ]
    },
    {
     "name": "stderr",
     "output_type": "stream",
     "text": [
      "/home/dawit/.local/lib/python3.6/site-packages/numpy/core/_asarray.py:83: ComplexWarning: Casting complex values to real discards the imaginary part\n",
      "  return array(a, dtype, copy=False, order=order)\n"
     ]
    },
    {
     "data": {
      "text/plain": [
       "Text(0.5, 1.0, 'DARK|mode=1 0 0|U=5| g=5 | $\\\\Omega$ =2 | $\\\\kappa$=1.4 | $\\\\Gamma_R$=0.1 | $\\\\Gamma_P$=6 | PrbPwr=0.03')"
      ]
     },
     "execution_count": 6,
     "metadata": {},
     "output_type": "execute_result"
    },
    {
     "data": {
      "image/png": "[encoded data removed]",
      "text/plain": [
       "<Figure size 432x288 with 1 Axes>"
      ]
     },
     "metadata": {
      "needs_background": "light"
     },
     "output_type": "display_data"
    }
   ],
   "source": [
    "# Test [1] g2 supression at central peak\n",
    "\n",
    "# Testing for U_0000 (a[0]) mode\n",
    "\n",
    "# params\n",
    "max_excitations = 2\n",
    "c = [1, 0, 0]\n",
    "delta = 0 # @ dark mode peak\n",
    "delta_c = [delta, 0, 0] \n",
    "delta_e = delta\n",
    "delta_2 = delta\n",
    "G = [5, 0, 0] \n",
    "omega = 2\n",
    "U = {(0,0,0,0) : 5}\n",
    "#del_omega = {(0,0,0,0): 5, ...} \n",
    "prb = 0.03\n",
    "\n",
    "# Hamiltonian\n",
    "H = H_eff(c, delta_c, delta_e, delta_2, G, omega, prb) + H_ryd_int(U)\n",
    "\n",
    "rho_ss = steadystate(H, collapse, method='direct')\n",
    "times = np.linspace(0, 100, 100)\n",
    "\n",
    "g2_t = g2(rho_ss, H, a[0], times)\n",
    "\n",
    "print('g2(0): ', g2_t[0]) # we expect 0.04 ish\n",
    "\n",
    "# plot g2_t\n",
    "fig=plt.figure()\n",
    "plt.plot(times, g2_t)\n",
    "plt.xlabel('t: Time')\n",
    "plt.ylabel('$g^{(2)}(t)$')\n",
    "plt.title('DARK' + '|mode='+ \" \".join(str(x) for x in c) + '|U='+str(U[(0,0,0,0)]) + '| g='+str(G[0]) +  ' | $\\Omega$ =' + str(omega) + ' | $\\kappa$=' + str(kappa)  + ' | $\\Gamma_R$=' + str(gamma_r) +' | $\\Gamma_P$=' + str(gamma) + ' | PrbPwr=' + str(prb))"
   ]
  },
  {
   "cell_type": "code",
   "execution_count": null,
   "metadata": {},
   "outputs": [],
   "source": []
  },
  {
   "cell_type": "code",
   "execution_count": 51,
   "metadata": {},
   "outputs": [
    {
     "name": "stdout",
     "output_type": "stream",
     "text": [
      "atempting to load:  U_contact\n",
      "(0.9442210085593896+0j)\n"
     ]
    },
    {
     "data": {
      "image/png": "[encoded data removed]",
      "text/plain": [
       "<Figure size 432x288 with 1 Axes>"
      ]
     },
     "metadata": {
      "needs_background": "light"
     },
     "output_type": "display_data"
    }
   ],
   "source": [
    "# Test [2] make (1,1) -> (0, 2) Laughlin State\n",
    "#\n",
    "# Observe signature of Laughlin State \n",
    "# I wonder if there is a way of visualizing an L-state\n",
    "# Maybe a wigner plot or something \n",
    "\n",
    "# params\n",
    "max_excitations = 2 # not implemented as of now\n",
    "c = [0, 1, 0] # excite the |0> mode \n",
    "delta = 0 \n",
    "delta_c = [delta, delta, delta] \n",
    "delta_e = delta\n",
    "delta_2 = delta\n",
    "G = [12.5, 12.5, 12.5] # same p-coupling const\n",
    "omega = 5\n",
    "\n",
    "# want (1, 1) -> (0, 2)\n",
    "\n",
    "# wholesale copied from Logan's code\n",
    "epsabs=1e-8\n",
    "epsrel=0.1\n",
    "wf = Wavefunctions.wf_lll_radial_jit\n",
    "# to get more (1,1) -> (0,2) we let ryd interactions be longer ranged\n",
    "H = 10**2 # contact limit for rydberg interaction (int dist is inverse of H value)\n",
    "C6 = 1\n",
    "w = 1\n",
    "try:\n",
    "    U = load_obj('U_contact')\n",
    "except:\n",
    "    U = computeU(epsabs, epsrel, wf, H, C6, w, (0,1,2), 'U_contact')\n",
    "\n",
    "# NOTE: (0,0,0,0) is not the same thing in my code as in Logan's\n",
    "# map ang momentum values in U.keys to indices for my code \n",
    "# e.g mapp = {3 : 0 , 6 : 1, 9 : 2}\n",
    "\n",
    "# ang mom (0, 1, 2) -> index (0, 1, 2)\n",
    "mapp = {0 : 0, 1 : 1, 2 : 2}\n",
    "mapp_invert = {v : k for k, v in mapp.items()}\n",
    "U = {tuple([mapp[i] for i in name]) : val for name, val in U.items()}\n",
    "\n",
    "#print(U)\n",
    "\n",
    "# set to 0 for now which is the ideal version \n",
    "# del_omega = {(0,0,0,0): 5}\n",
    "prb = 0.03\n",
    "\n",
    "# Hamiltonian\n",
    "H = H_eff(c, delta_c, delta_e, delta_2, G, omega, prb) + H_ryd_int(U) #+ H_exch_int(del_omega)\n",
    "rho_ss = steadystate(H, collapse, method='direct')\n",
    "\n",
    "# set H2020 = H1111 = H1120 = H2011 = 66 for the ideal case\n",
    "s20 = (r[2].dag()*r[0].dag()*psi0).unit()\n",
    "s11 = (r[1].dag()*r[1].dag()*psi0).unit()\n",
    "ind20 = np.nonzero(s20)[0][0] # get the 20 state index \n",
    "ind11 = np.nonzero(s11)[0][0]\n",
    "H2020 = H.matrix_element(s20, s20)\n",
    "H_arr = H.full()\n",
    "H_arr[ind11][ind11] = H2020\n",
    "H_arr[ind11][ind20] = H2020\n",
    "H_arr[ind20][ind11] = H2020\n",
    "# Ideal Hamiltonian\n",
    "H = Qobj(H_arr)\n",
    "\n",
    "# Plots\n",
    "# bar plot for <00> <11> <22> <02> and so on\n",
    "# get all 2 excitation states\n",
    "states = [(0,0), (1,1), (0,2), (2,2), (1,2), (1, 0)]\n",
    "nums = {(ind[0], ind[1]) : np.trace((ket2dm(a[ind[0]].dag()*a[ind[1]].dag()*psi0).unit())*rho_ss) for ind in states}\n",
    "\n",
    "out_over_in = nums[(0,2)] / nums[(1,1)]\n",
    "print(out_over_in)\n",
    "\n",
    "xs = list(nums.keys())\n",
    "x = np.arange(len(xs))\n",
    "labels = map((lambda tup: (mapp_invert[tup[0]], mapp_invert[tup[1]])), xs)\n",
    "ys = np.real(list(nums.values()))\n",
    "fig, ax = plt.subplots()\n",
    "plt.bar(x, ys,label=\"Photon\", color=\"darkorange\")\n",
    "# inverting back to ang momentum lables\n",
    "plt.xticks(x, labels) \n",
    "plt.legend(loc=\"upper right\")\n",
    "plt.title('(0,2)_to_(1,1) = '+str(out_over_in)[1:6] + ' | G ='+str(G[0]) +  ' | $\\Omega$ =' + str(omega) + ' | $\\kappa$=' + str(kappa)  + ' | $\\Gamma_R$=' + str(gamma_r) +' | $\\Gamma_P$=' + str(gamma) + ' | PrbPwr=' + str(prb),y=1.08)\n",
    "plt.show()"
   ]
  },
  {
   "cell_type": "markdown",
   "metadata": {},
   "source": [
    "**NOTE: When G and $\\Omega$ are low, we expect that Rydbergs will have correct ratio of |02> to |11> state\n",
    "while photons should produce significantly less |0,2> (output) modes.**\n",
    "\n",
    "*This is expected behavior which can be seen in the code above by lowering G and Omega to 1/3 of their values.*"
   ]
  },
  {
   "cell_type": "code",
   "execution_count": 52,
   "metadata": {},
   "outputs": [
    {
     "name": "stdout",
     "output_type": "stream",
     "text": [
      "(0.9671780902035066+0j)\n"
     ]
    },
    {
     "data": {
      "image/png": "[encoded data removed]",
      "text/plain": [
       "<Figure size 432x288 with 1 Axes>"
      ]
     },
     "metadata": {
      "needs_background": "light"
     },
     "output_type": "display_data"
    },
    {
     "name": "stdout",
     "output_type": "stream",
     "text": [
      "Ryd and Phot out of synch if co-operativity low. But that is expeted and is a positive demonstration of that fact.\n"
     ]
    }
   ],
   "source": [
    "# Test [2.1] plot number values for by counting rydbergs instead of photons and compare to photons \n",
    "\n",
    "# Plots\n",
    "# bar plot for <00> <11> <22> <02> and so on\n",
    "# get all 2 excitation states by counting rydbergs\n",
    "\n",
    "states = [(0,0), (1,1), (0,2), (2,2), (1,2), (1, 0)]\n",
    "nums = {(ind[0], ind[1]) : np.trace((ket2dm(r[ind[0]].dag()*r[ind[1]].dag()*psi0).unit())*rho_ss) for ind in states}\n",
    "\n",
    "out_over_in = nums[(0,2)] / nums[(1,1)]\n",
    "print(out_over_in)\n",
    "\n",
    "xs = list(nums.keys())\n",
    "x = np.arange(len(xs))\n",
    "labels = map((lambda tup: (mapp_invert[tup[0]], mapp_invert[tup[1]])), xs)\n",
    "ys = np.real(list(nums.values()))\n",
    "fig, ax = plt.subplots()\n",
    "plt.bar(x, ys, label='Rydberg')\n",
    "plt.legend(loc=\"upper right\")\n",
    "plt.title('(0,2)_to_(1,1) = '+str(out_over_in)[1:6] + ' | G ='+str(G[0]) +  ' | $\\Omega$ =' + str(omega) + ' | $\\kappa$=' + str(kappa)  + ' | $\\Gamma_R$=' + str(gamma_r) +' | $\\Gamma_P$=' + str(gamma) + ' | PrbPwr=' + str(prb), y=1.08)\n",
    "# inverting back to ang momentum lables\n",
    "plt.xticks(x, labels) \n",
    "plt.show()\n",
    "\n",
    "print('Ryd and Phot out of synch if co-operativity low. But that is expeted and is a positive demonstration of that fact.')"
   ]
  },
  {
   "cell_type": "code",
   "execution_count": 10,
   "metadata": {},
   "outputs": [
    {
     "name": "stdout",
     "output_type": "stream",
     "text": [
      "(0.026906143685361025+0j)\n"
     ]
    },
    {
     "name": "stderr",
     "output_type": "stream",
     "text": [
      "/home/dawit/.local/lib/python3.6/site-packages/numpy/core/_asarray.py:83: ComplexWarning: Casting complex values to real discards the imaginary part\n",
      "  return array(a, dtype, copy=False, order=order)\n"
     ]
    },
    {
     "data": {
      "text/plain": [
       "Text(0.5, 1.0, 'mode=0 1 0| g=12.5 | $\\\\Omega$ =5 | $\\\\kappa$=1.4 | $\\\\Gamma_R$=0.1 | $\\\\Gamma_P$=6 | PrbPwr=0.03')"
      ]
     },
     "execution_count": 10,
     "metadata": {},
     "output_type": "execute_result"
    },
    {
     "data": {
      "image/png": "[encoded data removed]",
      "text/plain": [
       "<Figure size 432x288 with 1 Axes>"
      ]
     },
     "metadata": {
      "needs_background": "light"
     },
     "output_type": "display_data"
    }
   ],
   "source": [
    "# Test [2.2] cont'd (1,1) -> (0,2)\n",
    "\n",
    "# correlation of the injected mode (in our case g_11)\n",
    "\n",
    "inj_mode = c.index(1) # injected mode: 1\n",
    "\n",
    "times = np.linspace(0, 10, 10)\n",
    "g2_t = g2(rho_ss, H, a[inj_mode], times)\n",
    "\n",
    "print(g2_t[0]) # should be very close to 0\n",
    "\n",
    "# plot g2_t\n",
    "fig=plt.figure()\n",
    "plt.plot(times, g2_t)\n",
    "plt.xlabel('t: Time')\n",
    "plt.ylabel('$g^{(2)}(t)$')\n",
    "plt.title('mode='+ \" \".join(str(x) for x in c) + '| g='+str(G[0]) +  ' | $\\Omega$ =' + str(omega) + ' | $\\kappa$=' + str(kappa)  + ' | $\\Gamma_R$=' + str(gamma_r) +' | $\\Gamma_P$=' + str(gamma) + ' | PrbPwr=' + str(prb))"
   ]
  },
  {
   "cell_type": "markdown",
   "metadata": {},
   "source": [
    "The old g2 function does not work for mixed states. The correct formula for the mode (0,2) is: \n",
    "\n",
    "$$g^{(2)}(t) = \\frac{ \\langle \\psi | a_0^\\dagger(0)a_2^\\dagger(t)a_2(t)a_0(0) | \\psi \\rangle }{N_0(0)N_2(0)}$$"
   ]
  },
  {
   "cell_type": "code",
   "execution_count": 11,
   "metadata": {},
   "outputs": [
    {
     "name": "stdout",
     "output_type": "stream",
     "text": [
      "(541367.7488485574+0j)\n"
     ]
    },
    {
     "name": "stderr",
     "output_type": "stream",
     "text": [
      "/home/dawit/.local/lib/python3.6/site-packages/numpy/core/_asarray.py:83: ComplexWarning: Casting complex values to real discards the imaginary part\n",
      "  return array(a, dtype, copy=False, order=order)\n"
     ]
    },
    {
     "data": {
      "text/plain": [
       "Text(0.5, 1.0, 'mode=0 1 0| g=12.5 | $\\\\Omega$ =5 | $\\\\kappa$=1.4 | $\\\\Gamma_R$=0.1 | $\\\\Gamma_P$=6 | PrbPwr=0.03')"
      ]
     },
     "execution_count": 11,
     "metadata": {},
     "output_type": "execute_result"
    },
    {
     "data": {
      "image/png": "[encoded data removed]",
      "text/plain": [
       "<Figure size 432x288 with 1 Axes>"
      ]
     },
     "metadata": {
      "needs_background": "light"
     },
     "output_type": "display_data"
    }
   ],
   "source": [
    "# Test [2.3] cont'd (1,1) -> (0,2)\n",
    "\n",
    "# g2_02,  correlation of the expected output mode\n",
    "\n",
    "out_modes = [a[0], a[2]]\n",
    "\n",
    "# my g2 function does not work here \n",
    "\n",
    "times = np.linspace(0, 10, 10)\n",
    "g2_t = g2_mixed(rho_ss, H, out_modes[0], out_modes[1], times) # makes more sense!\n",
    " \n",
    "print(g2_t[0]) # should be large because 0 and 2 are created at the same time by the dominating reaction\n",
    "\n",
    "# plot g2_t\n",
    "fig=plt.figure()\n",
    "plt.plot(times, g2_t)\n",
    "plt.xlabel('t: Time')\n",
    "plt.ylabel('$g^{(2)}(t)$')\n",
    "plt.title('mode='+ \" \".join(str(x) for x in c) + '| g='+str(G[0]) +  ' | $\\Omega$ =' + str(omega) + ' | $\\kappa$=' + str(kappa)  + ' | $\\Gamma_R$=' + str(gamma_r) +' | $\\Gamma_P$=' + str(gamma) + ' | PrbPwr=' + str(prb))"
   ]
  },
  {
   "cell_type": "code",
   "execution_count": 32,
   "metadata": {},
   "outputs": [
    {
     "name": "stdout",
     "output_type": "stream",
     "text": [
      "Laughlin E:  0.0\n",
      "Anti-Laughlin E:  132.20585694241583\n"
     ]
    }
   ],
   "source": [
    "# Test [2.4] Laughlin State minimizes interaction energy to 0\n",
    "\n",
    "# Laughlin state = |11> - alpha_01 |02> but alpha_01 = 1 \n",
    "# (Source: Observation of L states, page 25)\n",
    "\n",
    "mapp = {0:0, 1:1, 2:2} # old map \n",
    "mapp = {v : k for k, v in mapp.items()} # inversion\n",
    "\n",
    "s20 = (r[2].dag()*r[0].dag()*psi0).unit()\n",
    "s11 = (r[1].dag()*r[1].dag()*psi0).unit()\n",
    "\n",
    "l_state = (s11 - s20).unit()\n",
    "#l_state = ((r[mapp[1]].dag() * r[mapp[1]].dag()) - (r[mapp[2]].dag() * r[mapp[0]].dag())) * psi0\n",
    "#l_state = l_state.unit() # normalize state\n",
    "# Eventhough they should be equal qutip does something weird here\n",
    "\n",
    "l_int_energy  = expect(H, l_state) # expect value = 0 ; \n",
    "# something else is bringing the 3.8 factor!\n",
    "print('Laughlin E: ', l_int_energy)\n",
    "\n",
    "# Anti Laughlin state \n",
    "al_state = (s11 + s20).unit()\n",
    "#al_state = (r[mapp[1]].dag() * r[mapp[1]].dag() + r[mapp[2]].dag() * r[mapp[0]].dag()) * psi0\n",
    "#al_state = al_state.unit()\n",
    "al_int_energy = expect(H, al_state) # expect value =!= 0\n",
    "print('Anti-Laughlin E: ', al_int_energy)"
   ]
  },
  {
   "cell_type": "code",
   "execution_count": 35,
   "metadata": {},
   "outputs": [
    {
     "name": "stdout",
     "output_type": "stream",
     "text": [
      "NOTE: |nm> ryds not eigen-states because of exchange term. Polaritons are eigen-states.\n",
      "\n",
      "<20|H|20> = (66.10292847120793+0j)\n",
      "<11|H|11> = (66.10292847120793+0j)\n",
      "<11|H|20> = (66.10292847120793+0j)\n",
      "<20|H|11> = (66.10292847120793+0j)\n",
      "<L|H|L> = 0j\n"
     ]
    }
   ],
   "source": [
    "# Test [2.5] <20|H|20> = <11|H|11> = <11|H|20> to create a Laughlin b/c\n",
    "\n",
    "# <L|H|L> = <20|H|20> + <11|H|11> - 2*<11|H|20> = 0\n",
    "\n",
    "# because L state has 0 interaction energy \n",
    "\n",
    "s20 = (r[2].dag()*r[0].dag()*psi0).unit()\n",
    "s11 = (r[1].dag()*r[1].dag()*psi0).unit()\n",
    "\n",
    "\n",
    "H2020 = H.matrix_element(s20.dag(), s20)\n",
    "H1111 = H.matrix_element(s11.dag(), s11)\n",
    "H1120 = H.matrix_element(s20.dag(), s11)\n",
    "H2011 = H.matrix_element(s11.dag(), s20)\n",
    "\n",
    "#H.matrix_element(bra,ket)\n",
    "\n",
    "print('NOTE: |nm> ryds not eigen-states because of exchange term. Polaritons are eigen-states.\\n')\n",
    "print('<20|H|20> =', H2020)\n",
    "print('<11|H|11> =', H1111)\n",
    "print('<11|H|20> =', H1120) \n",
    "print('<20|H|11> =', H2011)\n",
    "print('<L|H|L> =', H2020 + H1111 - H1120 - H2011)"
   ]
  },
  {
   "cell_type": "code",
   "execution_count": 56,
   "metadata": {},
   "outputs": [
    {
     "name": "stdout",
     "output_type": "stream",
     "text": [
      "|<20|rho_ss|20>| = 3.7143349104189276e-07\n",
      "|<11|rho_ss|11>| = 3.8403836356935917e-07\n",
      "|<11|rho_ss|20>| = 3.776833319347028e-07\n",
      "|<20|rho_ss|11>| = 3.776833319347028e-07\n"
     ]
    }
   ],
   "source": [
    "# Test [2.6] check steady-state in coherence superposition to give only a |L> state\n",
    "# |rho_ss2011| ~= |rho_ss2020| and so on\n",
    "\n",
    "# i.e we want to make sure that our state is not just a clasical mixed state of |11> and |02> but \n",
    "# a pure superposition of them. That is we want to see (2) below \n",
    "\n",
    "#(1) rho_c = 1/2 |11><11| + 1/2 |02><02|\n",
    "#(2) rho_q = 1/2 (|11> - |02>)(<11| - <02|) = 1/2 |11><11| + 1/2 |02><02| -1/2|11><02| -1/2 |02><11|\n",
    "\n",
    "# observe the steady state in {|11> , |02>} basis \n",
    "\n",
    "s20 = (r[2].dag()*r[0].dag()*psi0).unit()\n",
    "s11 = (r[1].dag()*r[1].dag()*psi0).unit()\n",
    "\n",
    "rho_1111 = np.abs(rho_ss.matrix_element(s11.dag(), s11))\n",
    "rho_2020 = np.abs(rho_ss.matrix_element(s20.dag(), s20))\n",
    "rho_2011 = np.abs(rho_ss.matrix_element(s20.dag(), s11))\n",
    "rho_1120 = np.abs(rho_ss.matrix_element(s11.dag(), s20))\n",
    "\n",
    "print('|<20|rho_ss|20>| =', rho_2020)\n",
    "print('|<11|rho_ss|11>| =', rho_1111)\n",
    "print('|<11|rho_ss|20>| =', rho_1120) \n",
    "print('|<20|rho_ss|11>| =', rho_2011)"
   ]
  },
  {
   "cell_type": "markdown",
   "metadata": {},
   "source": [
    "**This confirms that we infact have a laughlin state and not a calssically mixed state.**"
   ]
  },
  {
   "cell_type": "code",
   "execution_count": null,
   "metadata": {},
   "outputs": [],
   "source": [
    "'''\n",
    "Next Steps\n",
    "\n",
    "---\n",
    "refactor code: Convert this to a Class named Test_Ryd\n",
    "\n",
    "---\n",
    "Leading Question: Is this approximation sensible? within 30% \n",
    "\n",
    "plot U vs H using Logan plot \n",
    "linear fit to get U values without resonances\n",
    "repeat for del_omega\n",
    "\n",
    "get c6 and w from page 15 of ET_redux \n",
    "\n",
    "get omega, G, del_p (shoudl be del_cs) page 29 and 30 from recent supplemental\n",
    "\n",
    "del_C = 0\n",
    "del_R = 0\n",
    "\n",
    "---\n",
    "Test: Fig 3. \n",
    "'''"
   ]
  }
 ],
 "metadata": {
  "kernelspec": {
   "display_name": "Python 3",
   "language": "python",
   "name": "python3"
  },
  "language_info": {
   "codemirror_mode": {
    "name": "ipython",
    "version": 3
   },
   "file_extension": ".py",
   "mimetype": "text/x-python",
   "name": "python",
   "nbconvert_exporter": "python",
   "pygments_lexer": "ipython3",
   "version": "3.6.9"
  }
 },
 "nbformat": 4,
 "nbformat_minor": 2
}
