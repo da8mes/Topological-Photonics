{
 "cells": [
  {
   "cell_type": "code",
   "execution_count": 7,
   "metadata": {},
   "outputs": [],
   "source": [
    "# 3 cavity modes, 3lvl, multiAtom\n",
    "\n",
    "%matplotlib inline\n",
    "import matplotlib.pyplot as plt\n",
    "import numpy as np\n",
    "from scipy.signal import chirp, find_peaks, peak_widths\n",
    "from qutip import *\n",
    "import time"
   ]
  },
  {
   "cell_type": "code",
   "execution_count": 8,
   "metadata": {
    "scrolled": true
   },
   "outputs": [],
   "source": [
    "# Modeling multiple cavity modes\n",
    "\n",
    "cav_modes = 1 # num of cav modes\n",
    "cav_max = 3 # this means can have 0, 1 or 2 photons\n",
    "phot_init = 0 \n",
    "#p_init = 0\n",
    "#r_init = 0\n",
    "\n",
    "# generic initial state\n",
    "cav0 = basis(cav_max, n = phot_init)\n",
    "p0 = basis(cav_max, n = phot_init)\n",
    "r0 = basis(cav_max, n = phot_init)\n",
    "#\n",
    "cav = tensor([cav0 for i in range(cav_modes)])\n",
    "exc = tensor([p0 for i in range(cav_modes)]) \n",
    "ryd = tensor([r0 for i in range(cav_modes)])\n",
    "# |phot_n, p_n, r_ n > for n <= cav_modes\n",
    "psi0 = tensor([cav, exc, ryd])\n",
    "\n",
    "# collective bosonic a, p, r state destruction_ops\n",
    "# list representation of operators to be tensored later\n",
    "Id_cav = [qeye(cav_max) for i in range(cav_modes)]\n",
    "Id_p = Id_cav\n",
    "Id_r = Id_cav\n",
    "\n",
    "\n",
    "a = ['' for i in range(cav_modes)] # to be populated by a0, a1, a2\n",
    "p = ['' for i in range(cav_modes)] # to be populated by p0, p1, p2\n",
    "r = ['' for i in range(cav_modes)] # to be populated by r0, r1, r2\n",
    "\n",
    "# populate a\n",
    "for i in range(cav_modes):\n",
    "    temp = [qeye(cav_max) for j in range(cav_modes)]\n",
    "    temp[i] = destroy(cav_max)\n",
    "    temp = temp + Id_p + Id_r\n",
    "    a[i] = tensor(temp)\n",
    "    \n",
    "# populate p\n",
    "temp = []\n",
    "for i in range(cav_modes):\n",
    "    temp = [qeye(cav_max) for j in range(cav_modes)]\n",
    "    temp[i] = destroy(cav_max)\n",
    "    temp = Id_cav + temp + Id_r\n",
    "    p[i] = tensor(temp)\n",
    "\n",
    "# populate r  \n",
    "temp = []\n",
    "for i in range(cav_modes):\n",
    "    temp = [qeye(cav_max) for j in range(cav_modes)]\n",
    "    temp[i] = destroy(cav_max)\n",
    "    r[i] = tensor(Id_cav + Id_p + temp)   \n",
    "\n",
    "# cav-p exchange, p-r exchange, drive\n",
    "pexchange = [(p[i].dag()*a[i] + a[i].dag()*p[i]) for i in range(cav_modes)]\n",
    "rexchange = [(r[i].dag()*p[i] + p[i].dag()*r[i]) for i in range(cav_modes)]"
   ]
  },
  {
   "cell_type": "code",
   "execution_count": 9,
   "metadata": {},
   "outputs": [],
   "source": [
    "# parameters placeholders\n",
    "c = [1, 1, 1]\n",
    "delta_c = [1, 1, 1]\n",
    "delta_e = 1\n",
    "delta_2 = 1\n",
    "G = [1, 1, 1] \n",
    "omega = 1\n",
    "prb = 0.3 \n",
    "\n",
    "# decay params\n",
    "kappa = 1.4\n",
    "gamma = 6\n",
    "gamma_r = 0.1\n",
    "\n",
    "# collapse operators\n",
    "# NOTE: each mode gets its own collapse operator \n",
    "# but the decay param is identical for all modes\n",
    "c_phot = [np.sqrt(kappa)*a_k for a_k in a]\n",
    "c_p = [np.sqrt(gamma)*p_k for p_k in p]\n",
    "c_r =  [np.sqrt(gamma_r)*r_k for r_k in r]\n",
    "\n",
    "collapse = c_phot + c_p + c_r"
   ]
  },
  {
   "cell_type": "code",
   "execution_count": 10,
   "metadata": {},
   "outputs": [],
   "source": [
    "# Some useful functions\n",
    "\n",
    "# qutip implements \n",
    "# coherence_function_g2(H, state0, times, c_ops, a_ops)\n",
    "\n",
    "# calculate g2 for dest and rho via H\n",
    "# rho: q-state\n",
    "# dest: destruction op\n",
    "# times: np.linspace of times\n",
    "# c: list of collapse operators\n",
    "def g2(rho, H, dest, times, c=collapse, options=Options(tidy=False)):\n",
    "    rho_m1 = dest * rho * dest.dag()\n",
    "    norm = np.trace(rho_m1)\n",
    "    rho_m1 = dest * (rho/norm) * dest.dag()\n",
    "    rho_m1_t = mesolve(H, rho_m1, times, c, [dest.dag()*dest], options=options)\n",
    "    \n",
    "    num = rho_m1_t.expect[0] * norm\n",
    "    den = np.power(np.trace(dest.dag()*dest*rho), 2)\n",
    "    \n",
    "    return num/den\n",
    "\n",
    "# calculate H_eff given params\n",
    "def H_eff(c, delta_c, delta_e, delta_2, G, omega, prb):\n",
    "    # Effective Hamiltonian\n",
    "    \n",
    "    tot_drive = sum([c_k*a_k for c_k, a_k in zip(c, a)])\n",
    "    tot_drive = prb*(tot_drive + tot_drive.dag())\n",
    "    \n",
    "    tot_phot = sum([coeff*op.dag()*op for coeff, op in zip(delta_c,a)])\n",
    "    tot_p = delta_e * sum([op.dag()*op for op in p])\n",
    "    tot_r = delta_2 * sum([op.dag()*op for op in r])\n",
    "    \n",
    "    tot_pexchange = sum([coeff*op for coeff, op in zip(G,pexchange)])\n",
    "    tot_rexchange = omega * sum(rexchange)\n",
    "\n",
    "    H_eff = tot_drive + tot_phot + tot_p + tot_r + tot_pexchange + tot_rexchange\n",
    "    \n",
    "    return H_eff"
   ]
  },
  {
   "cell_type": "markdown",
   "metadata": {},
   "source": [
    "**Tests for Multi Cavity modes**"
   ]
  },
  {
   "cell_type": "code",
   "execution_count": 11,
   "metadata": {},
   "outputs": [
    {
     "name": "stdout",
     "output_type": "stream",
     "text": [
      "(0.9972575003135817+0j)\n"
     ]
    },
    {
     "name": "stderr",
     "output_type": "stream",
     "text": [
      "/home/dawit/.local/lib/python3.6/site-packages/numpy/core/_asarray.py:83: ComplexWarning: Casting complex values to real discards the imaginary part\n",
      "  return array(a, dtype, copy=False, order=order)\n"
     ]
    },
    {
     "data": {
      "text/plain": [
       "Text(0.5, 1.0, 'mode=1 0 0| g=0 | $\\\\Omega$ =0 | $\\\\kappa$=1.4 | $\\\\Gamma_R$=0.1 | $\\\\Gamma_P$=6 | PrbPwr=0.03')"
      ]
     },
     "execution_count": 11,
     "metadata": {},
     "output_type": "execute_result"
    },
    {
     "data": {
      "image/png": "[encoded data removed]",
      "text/plain": [
       "<Figure size 432x288 with 1 Axes>"
      ]
     },
     "metadata": {
      "needs_background": "light"
     },
     "output_type": "display_data"
    }
   ],
   "source": [
    "# Test [1]: only prb and single mode for g2\n",
    "\n",
    "c = [1, 0, 0]\n",
    "delta_c = [0, 0, 0]\n",
    "delta_e = 0\n",
    "delta_2 = 0\n",
    "G = [0, 0, 0] \n",
    "omega = 0\n",
    "prb = 0.03\n",
    "\n",
    "# get Hamiltonian and steady state\n",
    "# H = prb*(a + a.dag)\n",
    "H = H_eff(c, delta_c, delta_e, delta_2, G, omega, prb)\n",
    "\n",
    "rho_ss = steadystate(H, collapse, method='direct')\n",
    "\n",
    "times = np.linspace(0, 100, 100)\n",
    "\n",
    "# get g2(times) for a[0] \n",
    "g2_t = g2(rho_ss, H, a[0], times)\n",
    "# g2_t = coherence_function_g2(H, rho_ss, times, collapse, a[0])[0] # return normalized g2\n",
    "print(g2_t[0])\n",
    "\n",
    "# plot g2_t\n",
    "fig=plt.figure()\n",
    "plt.plot(times, g2_t)\n",
    "plt.xlabel('t: Time')\n",
    "plt.ylabel('$g^{(2)}(t)$')\n",
    "plt.title('mode='+ \" \".join(str(x) for x in c) + '| g='+str(G[0]) +  ' | $\\Omega$ =' + str(omega) + ' | $\\kappa$=' + str(kappa)  + ' | $\\Gamma_R$=' + str(gamma_r) +' | $\\Gamma_P$=' + str(gamma) + ' | PrbPwr=' + str(prb))"
   ]
  },
  {
   "cell_type": "code",
   "execution_count": 12,
   "metadata": {},
   "outputs": [
    {
     "name": "stderr",
     "output_type": "stream",
     "text": [
      "/home/dawit/.local/lib/python3.6/site-packages/ipykernel_launcher.py:23: ComplexWarning: Casting complex values to real discards the imaginary part\n"
     ]
    },
    {
     "data": {
      "text/plain": [
       "Text(0.5, 1.0, '   mode=1 0 0| g=5 | $\\\\Omega$ =0 | $\\\\kappa$=1.4 | $\\\\Gamma_R$=0.1 | $\\\\Gamma_P$=6 | PrbPwr=0.03')"
      ]
     },
     "execution_count": 12,
     "metadata": {},
     "output_type": "execute_result"
    },
    {
     "data": {
      "image/png": "[encoded data removed]",
      "text/plain": [
       "<Figure size 432x288 with 1 Axes>"
      ]
     },
     "metadata": {
      "needs_background": "light"
     },
     "output_type": "display_data"
    }
   ],
   "source": [
    "# Test [2]: VRS spectrum for a[0] mode\n",
    "\n",
    "c = [1, 0, 0] # pumping only a[0] photons\n",
    "G = [5, 0, 0] # coupling a[0] and p[0]\n",
    "omega = 0 # no r-exchange\n",
    "prb = 0.03\n",
    "\n",
    "npts = 100\n",
    "nphot = np.empty(npts)\n",
    "deltas = np.linspace(-2*np.sqrt(G[0]**2 + omega**2) - kappa, 2*np.sqrt(G[0]**2 + omega**2) + kappa, npts)\n",
    "\n",
    "for i, delta in enumerate(deltas):\n",
    "    delta_c = [delta, 0, 0]\n",
    "    delta_e = delta\n",
    "    delta_2 = delta\n",
    "    \n",
    "    # get Hamiltonian and steady state\n",
    "    \n",
    "    # H = prb*drive + G[0](p.dag[0]*a[0] + a.dag[0]p[0]) + delta*(N_phot[0] + N_p[0] + N_r[0])\n",
    "    H = H_eff(c, delta_c, delta_e, delta_2, G, omega, prb) \n",
    "        \n",
    "    rho_ss = steadystate(H, collapse , method='eigen')\n",
    "    nphot[i] = np.trace(a[0].dag()*a[0]*rho_ss)\n",
    "    # expectation of a[0] operator for each delta value \n",
    "\n",
    "fig = plt.figure()\n",
    "plt.plot(deltas, nphot)\n",
    "plt.xlabel('$\\Delta$')\n",
    "plt.ylabel('num_photon')\n",
    "plt.title('   mode='+ \" \".join(str(x) for x in c) + '| g='+str(G[0]) +  ' | $\\Omega$ =' + str(omega) + ' | $\\kappa$=' + str(kappa)  + ' | $\\Gamma_R$=' + str(gamma_r) +' | $\\Gamma_P$=' + str(gamma) + ' | PrbPwr=' + str(prb))"
   ]
  },
  {
   "cell_type": "code",
   "execution_count": 13,
   "metadata": {},
   "outputs": [],
   "source": [
    "# figure out which quantity is the complex warning coming from\n",
    "#\n",
    "# TODO: make H_eff quicker ??? \n",
    "# \n",
    "# H_eff(...) re-computes unecessary ops like \n",
    "# drive, tot_rexchange, tot_p, tot_r\n",
    "#\n",
    "# use python time library to see the slow parts"
   ]
  },
  {
   "cell_type": "code",
   "execution_count": 14,
   "metadata": {},
   "outputs": [
    {
     "name": "stderr",
     "output_type": "stream",
     "text": [
      "/home/dawit/.local/lib/python3.6/site-packages/ipykernel_launcher.py:24: ComplexWarning: Casting complex values to real discards the imaginary part\n"
     ]
    },
    {
     "data": {
      "text/plain": [
       "Text(0.5, 1.0, '   mode=1 0 0| g=5 | $\\\\Omega$ =2 | $\\\\kappa$=1.4 | $\\\\Gamma_R$=0.1 | $\\\\Gamma_P$=6 | PrbPwr=0.03')"
      ]
     },
     "execution_count": 14,
     "metadata": {},
     "output_type": "execute_result"
    },
    {
     "data": {
      "image/png": "[encoded data removed]",
      "text/plain": [
       "<Figure size 432x288 with 1 Axes>"
      ]
     },
     "metadata": {
      "needs_background": "light"
     },
     "output_type": "display_data"
    }
   ],
   "source": [
    "# Test [3]: EIT spectrum for a[0]\n",
    "\n",
    "c = [1, 0, 0] # pumping only a[0] photons\n",
    "G = [5, 0, 0] # coupling a[0] and p[0]\n",
    "omega = 2 # r-exchange\n",
    "prb = 0.03\n",
    "\n",
    "npts = 50\n",
    "nphot = np.empty(2*npts)\n",
    "deltas = np.linspace(0, 2*np.sqrt(G[0]**2 + omega**2), npts)\n",
    "deltas = np.concatenate([np.linspace(-2*np.sqrt(G[0]**2 + omega**2), 0, npts, endpoint=False), deltas])\n",
    "\n",
    "for i, delta in enumerate(deltas):\n",
    "    delta_c = [delta, 0, 0]\n",
    "    delta_e = delta\n",
    "    delta_2 = delta\n",
    "    \n",
    "    # get Hamiltonian and steady state\n",
    "    \n",
    "    # H = prb*drive + G[0](p.dag[0]*a[0] + a.dag[0]p[0]) + delta*(N_phot[0] + N_p[0] + N_r[0])\n",
    "    H = H_eff(c, delta_c, delta_e, delta_2, G, omega, prb) \n",
    "        \n",
    "    rho_ss = steadystate(H, collapse , method='eigen')\n",
    "    nphot[i] = np.trace(a[0].dag()*a[0]*rho_ss)\n",
    "    # expectation of a[0] operator for each delta value \n",
    "\n",
    "fig = plt.figure()\n",
    "plt.plot(deltas, nphot)\n",
    "plt.xlabel('$\\Delta$')\n",
    "plt.ylabel('num_photon')\n",
    "plt.title('   mode='+ \" \".join(str(x) for x in c) + '| g='+str(G[0]) +  ' | $\\Omega$ =' + str(omega) + ' | $\\kappa$=' + str(kappa)  + ' | $\\Gamma_R$=' + str(gamma_r) +' | $\\Gamma_P$=' + str(gamma) + ' | PrbPwr=' + str(prb))"
   ]
  },
  {
   "cell_type": "code",
   "execution_count": 17,
   "metadata": {},
   "outputs": [
    {
     "name": "stdout",
     "output_type": "stream",
     "text": [
      "(27, 27)\n",
      "(0.040915820854830066+0j)\n"
     ]
    },
    {
     "name": "stderr",
     "output_type": "stream",
     "text": [
      "/home/dawit/.local/lib/python3.6/site-packages/numpy/core/_asarray.py:83: ComplexWarning: Casting complex values to real discards the imaginary part\n",
      "  return array(a, dtype, copy=False, order=order)\n"
     ]
    },
    {
     "data": {
      "text/plain": [
       "Text(0.5, 1.0, 'DARK|mode=1 0 0|U=10| g=5 | $\\\\Omega$ =2 | $\\\\kappa$=1.4 | $\\\\Gamma_R$=0.1 | $\\\\Gamma_P$=6 | PrbPwr=0.03')"
      ]
     },
     "execution_count": 17,
     "metadata": {},
     "output_type": "execute_result"
    },
    {
     "data": {
      "image/png": "[encoded data removed]",
      "text/plain": [
       "<Figure size 432x288 with 1 Axes>"
      ]
     },
     "metadata": {
      "needs_background": "light"
     },
     "output_type": "display_data"
    }
   ],
   "source": [
    "# Test [4]: single mode interaction for r[0]; look for g2(0) supresssion @ dark mode\n",
    "\n",
    "# I am going to put in the interaction term by hand \n",
    "# because interaction is second order Hamiltonian\n",
    "\n",
    "# interaction = U * 1/2 *r.dag()*r.dag()*r*r\n",
    "\n",
    "# params\n",
    "c = [1, 0, 0]\n",
    "delta = 0 # @ dark mode peak\n",
    "delta_c = [delta, 0, 0] \n",
    "delta_e = delta\n",
    "delta_2 = delta\n",
    "G = [5, 0, 0] \n",
    "omega = 2\n",
    "U = 10\n",
    "prb = 0.03\n",
    "\n",
    "# Hamiltonian\n",
    "interaction = U * 1/2 * r[0].dag()*r[0].dag()*r[0]*r[0]\n",
    "H = H_eff(c, delta_c, delta_e, delta_2, G, omega, prb) + interaction\n",
    "\n",
    "rho_ss = steadystate(H, collapse, method='direct')\n",
    "times = np.linspace(0, 100, 100)\n",
    "\n",
    "# get g2(times) for a[0] \n",
    "g2_t = g2(rho_ss, H, a[0], times)\n",
    "# g2_t = coherence_function_g2(H, rho_ss, times, collapse, a[0])[0] # return normalized g2\n",
    "\n",
    "# should be: 0.04 ish\n",
    "print(g2_t[0])\n",
    "\n",
    "# plot g2_t\n",
    "fig=plt.figure()\n",
    "plt.plot(times, g2_t)\n",
    "plt.xlabel('t: Time')\n",
    "plt.ylabel('$g^{(2)}(t)$')\n",
    "plt.title('DARK' + '|mode='+ \" \".join(str(x) for x in c) + '|U='+str(U) + '| g='+str(G[0]) +  ' | $\\Omega$ =' + str(omega) + ' | $\\kappa$=' + str(kappa)  + ' | $\\Gamma_R$=' + str(gamma_r) +' | $\\Gamma_P$=' + str(gamma) + ' | PrbPwr=' + str(prb))"
   ]
  },
  {
   "cell_type": "code",
   "execution_count": 16,
   "metadata": {},
   "outputs": [
    {
     "name": "stdout",
     "output_type": "stream",
     "text": [
      "(0.9915070393862359+0j)\n"
     ]
    },
    {
     "name": "stderr",
     "output_type": "stream",
     "text": [
      "/home/dawit/.local/lib/python3.6/site-packages/numpy/core/_asarray.py:83: ComplexWarning: Casting complex values to real discards the imaginary part\n",
      "  return array(a, dtype, copy=False, order=order)\n"
     ]
    },
    {
     "data": {
      "text/plain": [
       "Text(0.5, 1.0, 'BRIGHT|mode=1 0 0|U=10| g=5 | $\\\\Omega$ =2 | $\\\\kappa$=1.4 | $\\\\Gamma_R$=0.1 | $\\\\Gamma_P$=6 | PrbPwr=0.001')"
      ]
     },
     "execution_count": 16,
     "metadata": {},
     "output_type": "execute_result"
    },
    {
     "data": {
      "image/png": "[encoded data removed]",
      "text/plain": [
       "<Figure size 432x288 with 1 Axes>"
      ]
     },
     "metadata": {
      "needs_background": "light"
     },
     "output_type": "display_data"
    }
   ],
   "source": [
    "# Test [5]: single mode interaction for r[0]; look for less g2(0) supresssion @ bright mode \n",
    "\n",
    "# I am going to put in the interaction term by hand \n",
    "# because interaction is second order Hamiltonian\n",
    "\n",
    "# interaction = U * 1/2 *r.dag()*r.dag()*r*r\n",
    "\n",
    "# params\n",
    "c = [1, 0, 0]\n",
    "G = [5, 0, 0] \n",
    "omega = 2\n",
    "delta = np.sqrt(G[0]**2 + omega**2)  # @ bright mode peak\n",
    "delta_c = [delta, 0, 0]\n",
    "delta_e = delta\n",
    "delta_2 = delta\n",
    "U = 10\n",
    "prb = 0.001\n",
    "\n",
    "# Hamiltonian\n",
    "interaction = U * 1/2 * r[0].dag()*r[0].dag()*r[0]*r[0]\n",
    "H = H_eff(c, delta_c, delta_e, delta_2, G, omega, prb) + interaction\n",
    "\n",
    "rho_ss = steadystate(H, collapse, method='direct')\n",
    "times = np.linspace(0, 100, 100)\n",
    "\n",
    "# get g2(times) for a[0] \n",
    "g2_t = g2(rho_ss, H, a[0], times)\n",
    "# g2_t = coherence_function_g2(H, rho_ss, times, collapse, a[0])[0] # return normalized g2\n",
    "\n",
    "# should be: 0.999 ish\n",
    "print(g2_t[0])\n",
    "\n",
    "# plot g2_t\n",
    "fig=plt.figure()\n",
    "plt.plot(times, g2_t)\n",
    "plt.xlabel('t: Time')\n",
    "plt.ylabel('$g^{(2)}(t)$')\n",
    "plt.title('BRIGHT' + '|mode='+ \" \".join(str(x) for x in c) + '|U='+str(U) + '| g='+str(G[0]) +  ' | $\\Omega$ =' + str(omega) + ' | $\\kappa$=' + str(kappa)  + ' | $\\Gamma_R$=' + str(gamma_r) +' | $\\Gamma_P$=' + str(gamma) + ' | PrbPwr=' + str(prb))"
   ]
  },
  {
   "cell_type": "code",
   "execution_count": null,
   "metadata": {},
   "outputs": [],
   "source": []
  }
 ],
 "metadata": {
  "kernelspec": {
   "display_name": "Python 3",
   "language": "python",
   "name": "python3"
  },
  "language_info": {
   "codemirror_mode": {
    "name": "ipython",
    "version": 3
   },
   "file_extension": ".py",
   "mimetype": "text/x-python",
   "name": "python",
   "nbconvert_exporter": "python",
   "pygments_lexer": "ipython3",
   "version": "3.6.9"
  }
 },
 "nbformat": 4,
 "nbformat_minor": 2
}
