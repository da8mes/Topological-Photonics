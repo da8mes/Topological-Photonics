{
 "cells": [
  {
   "cell_type": "code",
   "execution_count": null,
   "metadata": {},
   "outputs": [],
   "source": [
    "####### OOP implementation\n",
    "\n",
    "%matplotlib inline\n",
    "import matplotlib.pyplot as plt\n",
    "import numpy as np\n",
    "from scipy.signal import chirp, find_peaks, peak_widths\n",
    "from qutip import *\n",
    "import time\n",
    "import itertools \n",
    "import pickle\n",
    "\n",
    "# parameter integrators \n",
    "import EFTParams\n",
    "import Integrands\n",
    "import Wavefunctions\n",
    "import importlib\n",
    "importlib.reload(EFTParams)\n",
    "importlib.reload(Integrands)\n",
    "importlib.reload(Wavefunctions)\n",
    "\n",
    "class Test_Ryd():\n",
    "    def __init__(self, ...):\n",
    "        cav_modes = 3 # num of cav modes\n",
    "        cav_max = 3 # this means can have 0, 1 or 2 photons per mode \n",
    "        max_excitations = 2 # maximum total excitations allowed in system\n",
    "        phot_init = 0\n",
    "\n",
    "        remove = indicesToRemove(9, 3)\n",
    "\n",
    "        # generic initial state\n",
    "        cav0 = basis(cav_max, n = phot_init)\n",
    "        p0 = basis(cav_max, n = phot_init)\n",
    "        r0 = basis(cav_max, n = phot_init)\n",
    "        #\n",
    "        cav = tensor([cav0 for i in range(cav_modes)])\n",
    "        exc = tensor([p0 for i in range(cav_modes)]) \n",
    "        ryd = tensor([r0 for i in range(cav_modes)])\n",
    "        #\n",
    "        psi0 = projectOP(tensor([cav, exc, ryd]), remove)\n",
    "\n",
    "        "
   ]
  },
  {
   "cell_type": "code",
   "execution_count": null,
   "metadata": {},
   "outputs": [],
   "source": []
  }
 ],
 "metadata": {
  "kernelspec": {
   "display_name": "Python 3",
   "language": "python",
   "name": "python3"
  },
  "language_info": {
   "codemirror_mode": {
    "name": "ipython",
    "version": 3
   },
   "file_extension": ".py",
   "mimetype": "text/x-python",
   "name": "python",
   "nbconvert_exporter": "python",
   "pygments_lexer": "ipython3",
   "version": "3.6.9"
  }
 },
 "nbformat": 4,
 "nbformat_minor": 2
}
