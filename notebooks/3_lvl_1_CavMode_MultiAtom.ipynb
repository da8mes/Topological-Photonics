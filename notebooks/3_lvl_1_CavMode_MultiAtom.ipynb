{
 "cells": [
  {
   "cell_type": "code",
   "execution_count": 1,
   "metadata": {},
   "outputs": [
    {
     "name": "stderr",
     "output_type": "stream",
     "text": [
      "In /home/dawit/.local/lib/python3.6/site-packages/matplotlib/mpl-data/stylelib/_classic_test.mplstyle: \n",
      "The text.latex.preview rcparam was deprecated in Matplotlib 3.3 and will be removed two minor releases later.\n",
      "In /home/dawit/.local/lib/python3.6/site-packages/matplotlib/mpl-data/stylelib/_classic_test.mplstyle: \n",
      "The mathtext.fallback_to_cm rcparam was deprecated in Matplotlib 3.3 and will be removed two minor releases later.\n",
      "In /home/dawit/.local/lib/python3.6/site-packages/matplotlib/mpl-data/stylelib/_classic_test.mplstyle: Support for setting the 'mathtext.fallback_to_cm' rcParam is deprecated since 3.3 and will be removed two minor releases later; use 'mathtext.fallback : 'cm' instead.\n",
      "In /home/dawit/.local/lib/python3.6/site-packages/matplotlib/mpl-data/stylelib/_classic_test.mplstyle: \n",
      "The validate_bool_maybe_none function was deprecated in Matplotlib 3.3 and will be removed two minor releases later.\n",
      "In /home/dawit/.local/lib/python3.6/site-packages/matplotlib/mpl-data/stylelib/_classic_test.mplstyle: \n",
      "The savefig.jpeg_quality rcparam was deprecated in Matplotlib 3.3 and will be removed two minor releases later.\n",
      "In /home/dawit/.local/lib/python3.6/site-packages/matplotlib/mpl-data/stylelib/_classic_test.mplstyle: \n",
      "The keymap.all_axes rcparam was deprecated in Matplotlib 3.3 and will be removed two minor releases later.\n",
      "In /home/dawit/.local/lib/python3.6/site-packages/matplotlib/mpl-data/stylelib/_classic_test.mplstyle: \n",
      "The animation.avconv_path rcparam was deprecated in Matplotlib 3.3 and will be removed two minor releases later.\n",
      "In /home/dawit/.local/lib/python3.6/site-packages/matplotlib/mpl-data/stylelib/_classic_test.mplstyle: \n",
      "The animation.avconv_args rcparam was deprecated in Matplotlib 3.3 and will be removed two minor releases later.\n"
     ]
    }
   ],
   "source": [
    "# Single Cavity Mode : No Interaction\n",
    "%matplotlib inline\n",
    "import matplotlib.pyplot as plt\n",
    "import numpy as np\n",
    "from scipy.signal import chirp, find_peaks, peak_widths\n",
    "from qutip import *"
   ]
  },
  {
   "cell_type": "markdown",
   "metadata": {},
   "source": [
    "**Hamiltonian for Single Mode: No Interaction**\n",
    "\n",
    "$H_{eff} = \\delta_c (a^\\dagger a) + g (p^\\dagger a + p a^\\dagger) + \\delta_e(p^\\dagger p) + \\delta_2(r^\\dagger r) + \\Omega(r^\\dagger p + r p^\\dagger)$\n",
    "\n",
    "**Parameters:**\n",
    "$\\\\ g$ : cavity-atom (p-state) coupling\n",
    "$\\\\ \\delta_c$ : mode freq \n",
    "$\\\\ \\delta_e$ : p-state freq (energy)\n",
    "$\\\\ \\delta_2$ : rydberg freq (energy)\n",
    "$\\\\ \\Omega$ : rydberg-p-state coupling"
   ]
  },
  {
   "cell_type": "code",
   "execution_count": 2,
   "metadata": {},
   "outputs": [
    {
     "data": {
      "text/plain": [
       "[<matplotlib.lines.Line2D at 0x7f803ca74cc0>]"
      ]
     },
     "execution_count": 2,
     "metadata": {},
     "output_type": "execute_result"
    },
    {
     "data": {
      "image/png": "[encoded data removed]",
      "text/plain": [
       "<Figure size 432x288 with 1 Axes>"
      ]
     },
     "metadata": {
      "needs_background": "light"
     },
     "output_type": "display_data"
    }
   ],
   "source": [
    "#3-level Atoms\n",
    "# want to calculate transmission spectrum and plot 3 peaks \n",
    "\n",
    "# params\n",
    "g = 30\n",
    "omega = 0\n",
    "delta_c = 0\n",
    "delta_e = 0\n",
    "delta_2 = 0\n",
    "kappa = 1.4\n",
    "gamma = 6\n",
    "gamma_r = 0.01\n",
    "prb = 0.2\n",
    "\n",
    "cav_max = 3\n",
    "p_max = 3\n",
    "r_max = 3\n",
    "phot_init = 2\n",
    "r_init = 0\n",
    "p_init = 0\n",
    "\n",
    "cav0 = basis(cav_max, n = phot_init)\n",
    "p0 = basis(p_max, n = p_init)\n",
    "r0 = basis(r_max, n = r_init)\n",
    "\n",
    "# |phot, p, r>\n",
    "psi0 = tensor([cav0, p0, r0]) \n",
    "\n",
    "# project(N, n , m), |n> <m|\n",
    "pg = projection(3, 2, 1) # p -> g \n",
    "rg = projection(3, 2, 0) # r -> g \n",
    "pr = projection(3, 0, 1) # p -> r \n",
    "\n",
    "# collective bosonic a, p, r state destruction_ops\n",
    "a = tensor(destroy(cav_max), qeye(p_max), qeye(r_max))\n",
    "p = tensor(qeye(cav_max), destroy(p_max), qeye(r_max))\n",
    "r = tensor(qeye(cav_max), qeye(p_max), destroy(r_max))\n",
    "\n",
    "# cavity p state exchange and p, r-state exchange\n",
    "pexchange = tensor(create(cav_max), destroy(p_max), qeye(r_max))\n",
    "pexchange = pexchange + pexchange.dag()\n",
    "rexchange =  tensor(qeye(cav_max), create(p_max), destroy(r_max))\n",
    "rexchange = rexchange + rexchange.dag()\n",
    "drive = a.dag() + a\n",
    "\n",
    "# H_effective\n",
    "H = prb*drive + g*pexchange + omega*rexchange + delta_c*(a.dag()*a) + delta_e*(p.dag()*p) + delta_2*(r.dag()*r)\n",
    "\n",
    "# collapse operators\n",
    "c_phot = np.sqrt(kappa)*tensor(destroy(cav_max), qeye(p_max), qeye(r_max))\n",
    "c_p = np.sqrt(gamma)*tensor(qeye(cav_max), destroy(p_max), qeye(r_max))\n",
    "c_r = np.sqrt(gamma_r)*tensor(qeye(cav_max), qeye(p_max), destroy(r_max))\n",
    "\n",
    "c = [c_phot, c_p, c_r]\n",
    "\n",
    "#basic numbers and plots \n",
    "times = np.linspace(0.0, 2.0, 400)\n",
    "result = mesolve(H, psi0, times, c, [a.dag()*a])\n",
    "\n",
    "fig, ax = plt.subplots()\n",
    "ax.plot(times, result.expect[0])"
   ]
  },
  {
   "cell_type": "markdown",
   "metadata": {},
   "source": [
    "**Hamiltonian for Single Mode: No Interaction, Rotating Frame**\n",
    "\n",
    "$H_{eff} = g (p^\\dagger a + p a^\\dagger) + \\Omega(r^\\dagger p + r p^\\dagger) + \\delta (a^\\dagger a + p^\\dagger p + r^\\dagger r) + \\delta_e(p^\\dagger p) + \\delta_2(r^\\dagger r)$\n",
    "\n",
    "**Parameters:**\n",
    "* $\\\\ g$ : cavity-atom (p-state) coupling\n",
    "* $\\\\ \\delta$ : degenerate (searching) freq \n",
    "* $\\\\ \\delta_e$ : p-state freq (energy)\n",
    "* $\\\\ \\delta_2$ : rydberg freq (energy)\n",
    "* $\\\\ \\Omega$ : rydberg-p-state coupling\n",
    "\n",
    "**Plot Results:**\n",
    "* We observe Electromagnetically Induced Transparency @ $\\Delta = 0$ and $\\Delta = \\pm g$\n",
    "* $\\Omega = 0$ we recover VRS peaks; $\\Omega > 0$ we get a new dark-mode peak at $\\delta = 0$ from rydberg coupling.\n",
    "\n",
    "**Why is dark mode peak at delta = 0?**"
   ]
  },
  {
   "cell_type": "code",
   "execution_count": 3,
   "metadata": {},
   "outputs": [
    {
     "name": "stderr",
     "output_type": "stream",
     "text": [
      "/home/dawit/.local/lib/python3.6/site-packages/ipykernel_launcher.py:61: ComplexWarning: Casting complex values to real discards the imaginary part\n"
     ]
    },
    {
     "data": {
      "text/plain": [
       "Text(0.5, 1.0, 'g=5 | $\\\\Omega$ =3 | $\\\\kappa$=1.4 | $\\\\Gamma_R$=0.1 | $\\\\Gamma_P$=6 | PrbPwr=0.3')"
      ]
     },
     "execution_count": 3,
     "metadata": {},
     "output_type": "execute_result"
    },
    {
     "data": {
      "image/png": "[encoded data removed]",
      "text/plain": [
       "<Figure size 432x288 with 1 Axes>"
      ]
     },
     "metadata": {
      "needs_background": "light"
     },
     "output_type": "display_data"
    }
   ],
   "source": [
    "# plot equivalent of VRS 2 peaks \n",
    "# expect: 3 peaks\n",
    "\n",
    "g = 5\n",
    "omega = 3\n",
    "#delta_c = 6\n",
    "delta_e = 0\n",
    "delta_2 = 0\n",
    "kappa = 1.4\n",
    "gamma = 6\n",
    "gamma_r = 0.1\n",
    "prb = 0.3\n",
    "\n",
    "cav_max = 3\n",
    "p_max = 3\n",
    "r_max = 3\n",
    "phot_init = 0\n",
    "r_init = 0\n",
    "p_init = 0\n",
    "\n",
    "cav0 = basis(cav_max, n = phot_init)\n",
    "p0 = basis(p_max, n = p_init)\n",
    "r0 = basis(r_max, n = r_init)\n",
    "\n",
    "#\n",
    "# collective bosonic a, p, r state destruction_ops\n",
    "Id = tensor(qeye(cav_max), qeye(p_max), qeye(r_max))\n",
    "a = tensor(destroy(cav_max), qeye(p_max), qeye(r_max))\n",
    "p = tensor(qeye(cav_max), destroy(p_max), qeye(r_max))\n",
    "r = tensor(qeye(cav_max), qeye(p_max), destroy(r_max))\n",
    "\n",
    "# cavity p state exchange and p, r-state exchange\n",
    "pexchange = tensor(create(cav_max), destroy(p_max), qeye(r_max))\n",
    "pexchange = pexchange + pexchange.dag()\n",
    "rexchange =  tensor(qeye(cav_max), create(p_max), destroy(r_max))\n",
    "rexchange = rexchange + rexchange.dag()\n",
    "drive = a.dag() + a\n",
    "#\n",
    "\n",
    "npts = 50\n",
    "nphot = np.empty(2*npts)\n",
    "deltas = np.linspace(0, 1.5*np.sqrt(g**2 + omega**2), npts)\n",
    "deltas = np.concatenate([np.linspace(-1.5*np.sqrt(g**2 + omega**2), 0, npts, endpoint=False), deltas])\n",
    "\n",
    "for i, delta in enumerate(deltas, start=0):\n",
    "    #Hamiltonian\n",
    "    \n",
    "    # pexchange probably not working as it should\n",
    "    H = prb*drive + g*pexchange + omega*rexchange + delta*(a.dag()*a + p.dag()*p + r.dag()*r) + delta_e*(p.dag()*p) + delta_2*(r.dag()*r)    \n",
    "    # it is essential that the atom and cav states at delta are\n",
    "    # triply degenerate\n",
    "    \n",
    "    # collapse operators\n",
    "    c_phot = np.sqrt(kappa)*tensor(destroy(cav_max), qeye(p_max), qeye(r_max))\n",
    "    c_p = np.sqrt(gamma)*tensor(qeye(cav_max), destroy(p_max), qeye(r_max))\n",
    "    c_r = np.sqrt(gamma_r)*tensor(qeye(cav_max), qeye(p_max), destroy(r_max))\n",
    "    \n",
    "    c = [c_phot, c_p, c_r]\n",
    "    \n",
    "    rho_ss = steadystate(H, c , method='direct')\n",
    "    nphot[i] = np.trace(a.dag()*a*rho_ss)\n",
    "    # expectation of num operator for each delta value \n",
    "\n",
    "fig = plt.figure()\n",
    "plt.plot(deltas, nphot)\n",
    "plt.xlabel('$\\Delta$')\n",
    "plt.ylabel('num_photon')\n",
    "plt.title('g='+str(g) +  ' | $\\Omega$ =' + str(omega) + ' | $\\kappa$=' + str(kappa)  + ' | $\\Gamma_R$=' + str(gamma_r) +' | $\\Gamma_P$=' + str(gamma) + ' | PrbPwr=' + str(prb))"
   ]
  },
  {
   "cell_type": "markdown",
   "metadata": {},
   "source": [
    "**Hamiltonian for Single Mode: Interaction, Rotating Frame?**\n",
    "\n",
    "$H_{eff} = g (p^\\dagger a + p a^\\dagger) + \\Omega(r^\\dagger p + r p^\\dagger) + \\delta (a^\\dagger a + p^\\dagger p + r^\\dagger r) + \\delta_e(p^\\dagger p) + \\delta_2(r^\\dagger r) +  \\frac{U}{2} r^\\dagger r^\\dagger r r$\n",
    "\n",
    "**Interaction:**\n",
    "* $\\frac{U}{2} r^\\dagger r^\\dagger r r |n\\rangle = U*\\frac{n(n-1)}{2}|n\\rangle = U*C(n, 2)|n\\rangle$ where $|n\\rangle$ is a rydberg number state\n",
    "* interaction term counts unique pairs of rydberg\n",
    "* probing on dark mode: strong anti-bunching \n",
    "* probing on bright mode: weaker anti-bunching\n",
    "\n",
    "*This is expected becuase rydbergs have stronger interaction than p-states*\n",
    "\n",
    "**Parameters:**\n",
    "* $\\\\ g$ : cavity-atom (p-state) coupling\n",
    "* $\\\\ \\Omega$ : rydberg-p-state coupling\n",
    "* $\\\\ \\delta$ : degenerate (searching) freq \n",
    "* $\\\\ \\delta_e$ : p-state freq (energy)\n",
    "* $\\\\ \\delta_2$ : rydberg freq (energy)\n",
    "* $\\\\U_{nmpq}$ : energy of interaction"
   ]
  },
  {
   "cell_type": "code",
   "execution_count": 4,
   "metadata": {},
   "outputs": [
    {
     "name": "stderr",
     "output_type": "stream",
     "text": [
      "/home/dawit/.local/lib/python3.6/site-packages/ipykernel_launcher.py:65: ComplexWarning: Casting complex values to real discards the imaginary part\n"
     ]
    },
    {
     "data": {
      "text/plain": [
       "Text(0.5, 1.0, 'g=5 | $\\\\Omega$ =3 | $\\\\kappa$=1.4 | $\\\\Gamma_R$=0.1 | $\\\\Gamma_P$=6 | PrbPwr=0.3')"
      ]
     },
     "execution_count": 4,
     "metadata": {},
     "output_type": "execute_result"
    },
    {
     "data": {
      "image/png": "[encoded data removed]",
      "text/plain": [
       "<Figure size 432x288 with 1 Axes>"
      ]
     },
     "metadata": {
      "needs_background": "light"
     },
     "output_type": "display_data"
    }
   ],
   "source": [
    "# plot EIT spectrum AFTER adding interaction term to see if spectrum changes \n",
    "\n",
    "# plot equivalent of VRS 2 peaks \n",
    "# expect: 3 peaks\n",
    "\n",
    "g = 5\n",
    "omega = 3\n",
    "#delta_c = 6\n",
    "delta_e = 0\n",
    "delta_2 = 0\n",
    "U = 10\n",
    "kappa = 1.4\n",
    "gamma = 6\n",
    "gamma_r = 0.1\n",
    "prb = 0.3\n",
    "\n",
    "cav_max = 3\n",
    "p_max = 3\n",
    "r_max = 3\n",
    "phot_init = 0\n",
    "r_init = 0\n",
    "p_init = 0\n",
    "\n",
    "cav0 = basis(cav_max, n = phot_init)\n",
    "p0 = basis(p_max, n = p_init)\n",
    "r0 = basis(r_max, n = r_init)\n",
    "\n",
    "#\n",
    "# collective bosonic a, p, r state destruction_ops\n",
    "Id = tensor(qeye(cav_max), qeye(p_max), qeye(r_max))\n",
    "a = tensor(destroy(cav_max), qeye(p_max), qeye(r_max))\n",
    "p = tensor(qeye(cav_max), destroy(p_max), qeye(r_max))\n",
    "r = tensor(qeye(cav_max), qeye(p_max), destroy(r_max))\n",
    "\n",
    "# cavity p state exchange and p, r-state exchange\n",
    "pexchange = tensor(create(cav_max), destroy(p_max), qeye(r_max))\n",
    "pexchange = pexchange + pexchange.dag()\n",
    "rexchange =  tensor(qeye(cav_max), create(p_max), destroy(r_max))\n",
    "rexchange = rexchange + rexchange.dag()\n",
    "drive = a.dag() + a\n",
    "interaction = U * 1/2 *r.dag()*r.dag()*r*r\n",
    "#\n",
    "\n",
    "npts = 50\n",
    "nphot = np.empty(2*npts)\n",
    "deltas = np.linspace(0, 1.5*np.sqrt(g**2 + omega**2), npts)\n",
    "deltas = np.concatenate([np.linspace(-1.5*np.sqrt(g**2 + omega**2), 0, npts, endpoint=False), deltas])\n",
    "\n",
    "for i, delta in enumerate(deltas, start=0):\n",
    "    #Hamiltonian\n",
    "    \n",
    "    # pexchange probably not working as it should\n",
    "    H = prb*drive + g*pexchange + omega*rexchange + interaction + delta*(a.dag()*a + p.dag()*p + r.dag()*r) + delta_e*(p.dag()*p) + delta_2*(r.dag()*r)    \n",
    "    # it is essential that the atom and cav states at delta are\n",
    "    # triply degenerate\n",
    "    \n",
    "    # collapse operators\n",
    "    c_phot = np.sqrt(kappa)*tensor(destroy(cav_max), qeye(p_max), qeye(r_max))\n",
    "    c_p = np.sqrt(gamma)*tensor(qeye(cav_max), destroy(p_max), qeye(r_max))\n",
    "    c_r = np.sqrt(gamma_r)*tensor(qeye(cav_max), qeye(p_max), destroy(r_max))\n",
    "    \n",
    "    c = [c_phot, c_p, c_r]\n",
    "    \n",
    "    rho_ss = steadystate(H, c , method='direct')\n",
    "    nphot[i] = np.trace(a.dag()*a*rho_ss)\n",
    "    # expectation of num operator for each delta value \n",
    "\n",
    "fig = plt.figure()\n",
    "plt.plot(deltas, nphot)\n",
    "plt.xlabel('$\\Delta$')\n",
    "plt.ylabel('num_photon')\n",
    "plt.title('g='+str(g) +  ' | $\\Omega$ =' + str(omega) + ' | $\\kappa$=' + str(kappa)  + ' | $\\Gamma_R$=' + str(gamma_r) +' | $\\Gamma_P$=' + str(gamma) + ' | PrbPwr=' + str(prb))"
   ]
  },
  {
   "cell_type": "markdown",
   "metadata": {},
   "source": [
    "**Curious result that the dark peak and bright beaks occur at almost the exact same place as when U = 0**\n",
    "\n",
    "* Look into it more closely \n",
    "* Look into why the bright peaks occur at: $\\Delta = \\pm \\sqrt{g^2 + \\Omega^2}$\n",
    "* Look into why the dark peak occurs at: $\\Delta = 0$"
   ]
  },
  {
   "cell_type": "code",
   "execution_count": 5,
   "metadata": {},
   "outputs": [
    {
     "name": "stdout",
     "output_type": "stream",
     "text": [
      "U = 10\n",
      "g2[0] = (0.04016977072115961+0j)\n"
     ]
    },
    {
     "name": "stderr",
     "output_type": "stream",
     "text": [
      "/home/dawit/.local/lib/python3.6/site-packages/numpy/core/_asarray.py:83: ComplexWarning: Casting complex values to real discards the imaginary part\n",
      "  return array(a, dtype, copy=False, order=order)\n"
     ]
    },
    {
     "data": {
      "text/plain": [
       "Text(0.5, 1.0, 'g=5 | U=10 | $\\\\Omega$ =2 | $\\\\kappa$=1.4 | $\\\\Gamma_R$=0.1 | $\\\\Gamma_P$=6 | PrbPwr=0.001')"
      ]
     },
     "execution_count": 5,
     "metadata": {},
     "output_type": "execute_result"
    },
    {
     "data": {
      "image/png": "[encoded data removed]",
      "text/plain": [
       "<Figure size 432x288 with 1 Axes>"
      ]
     },
     "metadata": {
      "needs_background": "light"
     },
     "output_type": "display_data"
    }
   ],
   "source": [
    "# Interaction term for single cavity mode and therefore rydberg mode \n",
    "# angular mode restricted to just a single mode \n",
    "# resulting in blockade\n",
    "\n",
    "# Probing on dark mode peak\n",
    "# @ delta_c = delta_e = delta_2 = 0 \n",
    "\n",
    "# params\n",
    "g = 5\n",
    "omega = 2\n",
    "delta = 0 # rotating frame: r, p and cav are all degenerate\n",
    "#delta_c = 0\n",
    "#delta_e = 0\n",
    "#delta_2 = 0\n",
    "U = 10 # MHZ so 10^6? \n",
    "\n",
    "# decay rates\n",
    "kappa = 1.4\n",
    "gamma = 6\n",
    "gamma_r = 0.1\n",
    "prb = 0.001\n",
    "\n",
    "cav_max = 3\n",
    "p_max = 3\n",
    "r_max = 3\n",
    "phot_init = 0\n",
    "r_init = 0\n",
    "p_init = 0\n",
    "\n",
    "cav0 = basis(cav_max, n = phot_init)\n",
    "p0 = basis(p_max, n = p_init)\n",
    "r0 = basis(r_max, n = r_init)\n",
    "\n",
    "# |phot, p, r>\n",
    "psi0 = tensor([cav0, p0, r0]) \n",
    "\n",
    "# project(N, n , m), |n> <m|\n",
    "pg = projection(3, 2, 1) # p -> g \n",
    "rg = projection(3, 2, 0) # r -> g \n",
    "pr = projection(3, 0, 1) # p -> r \n",
    "\n",
    "# collective bosonic a, p, r state destruction_ops\n",
    "a = tensor(destroy(cav_max), qeye(p_max), qeye(r_max))\n",
    "p = tensor(qeye(cav_max), destroy(p_max), qeye(r_max))\n",
    "r = tensor(qeye(cav_max), qeye(p_max), destroy(r_max))\n",
    "\n",
    "# cavity p state exchange and p, r-state exchange\n",
    "pexchange = tensor(create(cav_max), destroy(p_max), qeye(r_max))\n",
    "pexchange = pexchange + pexchange.dag()\n",
    "rexchange =  tensor(qeye(cav_max), create(p_max), destroy(r_max))\n",
    "rexchange = rexchange + rexchange.dag()\n",
    "drive = (a.dag() + a)\n",
    "\n",
    "# interaction term \n",
    "# counts unique pairs of rydbergs and assigns interaction energy of U to each\n",
    "# num_pairs = C(n, 2) = n(n-1)/2\n",
    "# which translates to the operator form below\n",
    "interaction = U * 1/2 *r.dag()*r.dag()*r*r\n",
    "\n",
    "\n",
    "# H_effective\n",
    "H = prb*drive + g*pexchange + omega*rexchange + interaction + delta*(a.dag()*a + p.dag()*p + r.dag()*r)\n",
    "\n",
    "# collapse operators\n",
    "c_phot = np.sqrt(kappa)*tensor(destroy(cav_max), qeye(p_max), qeye(r_max))\n",
    "c_p = np.sqrt(gamma)*tensor(qeye(cav_max), destroy(p_max), qeye(r_max))\n",
    "c_r = np.sqrt(gamma_r)*tensor(qeye(cav_max), qeye(p_max), destroy(r_max))\n",
    "\n",
    "c = [c_phot, c_p, c_r]\n",
    "\n",
    "\n",
    "# prepare options for mesolver to not tidy up small values\n",
    "# we don't want to loose small numbers \n",
    "options = Options(tidy=False)\n",
    "\n",
    "# steady state \n",
    "rho_ss = steadystate(H, c, method='direct')\n",
    "times = np.linspace(0, 100, 100) # includes t=0\n",
    "\n",
    "# calculate time evolition after removing a photon\n",
    "rho_m1 = a * rho_ss * a.dag() # remove one photon from SS\n",
    "norm = np.trace(rho_m1) # normalization factor \n",
    "rho_m1 = a * (rho_ss / norm) * a.dag() # renormalize SS\n",
    "rho_m1_t = mesolve(H, rho_m1, times, c, [a.dag()*a], options=options)\n",
    "\n",
    "# build g2\n",
    "num = rho_m1_t.expect[0] * norm  \n",
    "den = np.power(np.trace(a.dag()*a*rho_ss), 2)\n",
    "\n",
    "g2 = num/den \n",
    "\n",
    "print('U =', U)\n",
    "print('g2[0] =', g2[0]) \n",
    "\n",
    "#matplotlib\n",
    "fig=plt.figure()\n",
    "plt.plot(times, g2)   \n",
    "plt.xlabel('t: Time')\n",
    "plt.ylabel('$g^{(2)}(t)$')\n",
    "plt.title('g='+str(g) + ' | U=' + str(U) + ' | $\\Omega$ =' + str(omega) + ' | $\\kappa$=' + str(kappa)  + ' | $\\Gamma_R$=' + str(gamma_r) +' | $\\Gamma_P$=' + str(gamma) + ' | PrbPwr=' + str(prb))"
   ]
  },
  {
   "cell_type": "code",
   "execution_count": 6,
   "metadata": {},
   "outputs": [
    {
     "name": "stdout",
     "output_type": "stream",
     "text": [
      "U = 10\n",
      "g2[0] = (0.9915070394517278+0j)\n"
     ]
    },
    {
     "name": "stderr",
     "output_type": "stream",
     "text": [
      "/home/dawit/.local/lib/python3.6/site-packages/numpy/core/_asarray.py:83: ComplexWarning: Casting complex values to real discards the imaginary part\n",
      "  return array(a, dtype, copy=False, order=order)\n"
     ]
    },
    {
     "data": {
      "text/plain": [
       "Text(0.5, 1.0, 'g=5 | U=10 | $\\\\Omega$ =2 | $\\\\kappa$=1.4 | $\\\\Gamma_R$=0.1 | $\\\\Gamma_P$=6 | PrbPwr=0.001')"
      ]
     },
     "execution_count": 6,
     "metadata": {},
     "output_type": "execute_result"
    },
    {
     "data": {
      "image/png": "[encoded data removed]",
      "text/plain": [
       "<Figure size 432x288 with 1 Axes>"
      ]
     },
     "metadata": {
      "needs_background": "light"
     },
     "output_type": "display_data"
    }
   ],
   "source": [
    "# probe on VRS peaks and plot g2(t) should be less antibunching\n",
    "# since p-modes don't interact, should see significant less anti-bunching\n",
    "\n",
    "# Probing on bright mode peak\n",
    "# @ delta = sqrt(g**2 + omega**2)\n",
    "\n",
    "# params\n",
    "g = 5\n",
    "omega = 2\n",
    "delta = np.sqrt(g**2 + omega**2)\n",
    "#delta_c = 0\n",
    "#delta_e = 0\n",
    "#delta_2 = 0\n",
    "U = 10 # MHZ so 10^6? \n",
    "\n",
    "# decay rates\n",
    "kappa = 1.4\n",
    "gamma = 6\n",
    "gamma_r = 0.1\n",
    "prb = 0.001\n",
    "\n",
    "cav_max = 3\n",
    "p_max = 3\n",
    "r_max = 3\n",
    "phot_init = 0\n",
    "r_init = 0\n",
    "p_init = 0\n",
    "\n",
    "cav0 = basis(cav_max, n = phot_init)\n",
    "p0 = basis(p_max, n = p_init)\n",
    "r0 = basis(r_max, n = r_init)\n",
    "\n",
    "# |phot, p, r>\n",
    "psi0 = tensor([cav0, p0, r0]) \n",
    "\n",
    "# project(N, n , m), |n> <m|\n",
    "pg = projection(3, 2, 1) # p -> g \n",
    "rg = projection(3, 2, 0) # r -> g \n",
    "pr = projection(3, 0, 1) # p -> r \n",
    "\n",
    "# collective bosonic a, p, r state destruction_ops\n",
    "a = tensor(destroy(cav_max), qeye(p_max), qeye(r_max))\n",
    "p = tensor(qeye(cav_max), destroy(p_max), qeye(r_max))\n",
    "r = tensor(qeye(cav_max), qeye(p_max), destroy(r_max))\n",
    "\n",
    "# cavity p state exchange and p, r-state exchange\n",
    "pexchange = tensor(create(cav_max), destroy(p_max), qeye(r_max))\n",
    "pexchange = pexchange + pexchange.dag()\n",
    "rexchange =  tensor(qeye(cav_max), create(p_max), destroy(r_max))\n",
    "rexchange = rexchange + rexchange.dag()\n",
    "drive = (a.dag() + a)\n",
    "\n",
    "# interaction term \n",
    "# counts unique pairs of rydbergs and assigns interaction energy of U to each\n",
    "# num_pairs = C(n, 2) = n(n-1)/2\n",
    "# which translates to the operator form below\n",
    "interaction = U * 1/2 *r.dag()*r.dag()*r*r\n",
    "\n",
    "\n",
    "# H_effective\n",
    "H = prb*drive + g*pexchange + omega*rexchange + interaction + delta*(a.dag()*a + p.dag()*p + r.dag()*r)\n",
    "\n",
    "# collapse operators\n",
    "c_phot = np.sqrt(kappa)*tensor(destroy(cav_max), qeye(p_max), qeye(r_max))\n",
    "c_p = np.sqrt(gamma)*tensor(qeye(cav_max), destroy(p_max), qeye(r_max))\n",
    "c_r = np.sqrt(gamma_r)*tensor(qeye(cav_max), qeye(p_max), destroy(r_max))\n",
    "\n",
    "c = [c_phot, c_p, c_r]\n",
    "\n",
    "\n",
    "# prepare options for mesolver to not tidy up small values\n",
    "# we don't want to loose small numbers \n",
    "options = Options(tidy=False)\n",
    "\n",
    "# steady state \n",
    "rho_ss = steadystate(H, c, method='direct')\n",
    "times = np.linspace(0, 100, 100) # includes t=0\n",
    "\n",
    "# calculate time evolition after removing a photon\n",
    "rho_m1 = a * rho_ss * a.dag() # remove one photon from SS\n",
    "norm = np.trace(rho_m1) # normalization factor \n",
    "rho_m1 = a * (rho_ss / norm) * a.dag() # renormalize SS\n",
    "rho_m1_t = mesolve(H, rho_m1, times, c, [a.dag()*a], options=options)\n",
    "\n",
    "# build g2\n",
    "num = rho_m1_t.expect[0] * norm  \n",
    "den = np.power(np.trace(a.dag()*a*rho_ss), 2)\n",
    "\n",
    "g2 = num/den \n",
    "\n",
    "print('U =', U)\n",
    "print('g2[0] =', g2[0]) \n",
    "\n",
    "#matplotlib\n",
    "fig=plt.figure()\n",
    "plt.plot(times, g2)   \n",
    "plt.xlabel('t: Time')\n",
    "plt.ylabel('$g^{(2)}(t)$')\n",
    "plt.title('g='+str(g) + ' | U=' + str(U) + ' | $\\Omega$ =' + str(omega) + ' | $\\kappa$=' + str(kappa)  + ' | $\\Gamma_R$=' + str(gamma_r) +' | $\\Gamma_P$=' + str(gamma) + ' | PrbPwr=' + str(prb))"
   ]
  },
  {
   "cell_type": "code",
   "execution_count": 7,
   "metadata": {},
   "outputs": [
    {
     "name": "stdout",
     "output_type": "stream",
     "text": [
      "g2[0] = (0.9972575003135817+0j)\n"
     ]
    },
    {
     "name": "stderr",
     "output_type": "stream",
     "text": [
      "/home/dawit/.local/lib/python3.6/site-packages/numpy/core/_asarray.py:83: ComplexWarning: Casting complex values to real discards the imaginary part\n",
      "  return array(a, dtype, copy=False, order=order)\n"
     ]
    },
    {
     "data": {
      "text/plain": [
       "Text(0.5, 1.0, 'g=0 | U=0 | $\\\\Omega$ =0 | $\\\\kappa$=1.4 | $\\\\Gamma_R$=0.1 | $\\\\Gamma_P$=6 | PrbPwr=0.03')"
      ]
     },
     "execution_count": 7,
     "metadata": {},
     "output_type": "execute_result"
    },
    {
     "data": {
      "image/png": "[encoded data removed]",
      "text/plain": [
       "<Figure size 432x288 with 1 Axes>"
      ]
     },
     "metadata": {
      "needs_background": "light"
     },
     "output_type": "display_data"
    }
   ],
   "source": [
    "# plotting g2 for probe laser\n",
    "\n",
    "# params\n",
    "g = 0\n",
    "omega = 0\n",
    "delta = 0\n",
    "delta_c = 0\n",
    "delta_e = 0\n",
    "delta_2 = 0\n",
    "U = 0\n",
    "\n",
    "# decay rates\n",
    "kappa = 1.4\n",
    "gamma = 6\n",
    "gamma_r = 0.1\n",
    "prb = 0.03\n",
    "\n",
    "cav_max = 3\n",
    "p_max = 3\n",
    "r_max = 3\n",
    "phot_init = 0\n",
    "r_init = 0\n",
    "p_init = 0\n",
    "\n",
    "cav0 = basis(cav_max, n = phot_init)\n",
    "p0 = basis(p_max, n = p_init)\n",
    "r0 = basis(r_max, n = r_init)\n",
    "\n",
    "# |phot, p, r>\n",
    "psi0 = tensor([cav0, p0, r0]) \n",
    "\n",
    "# project(N, n , m), |n> <m|\n",
    "pg = projection(3, 2, 1) # p -> g \n",
    "rg = projection(3, 2, 0) # r -> g \n",
    "pr = projection(3, 0, 1) # p -> r \n",
    "\n",
    "# collective bosonic a, p, r state destruction_ops\n",
    "a = tensor(destroy(cav_max), qeye(p_max), qeye(r_max))\n",
    "p = tensor(qeye(cav_max), destroy(p_max), qeye(r_max))\n",
    "r = tensor(qeye(cav_max), qeye(p_max), destroy(r_max))\n",
    "\n",
    "# cavity p state exchange and p, r-state exchange\n",
    "pexchange = tensor(create(cav_max), destroy(p_max), qeye(r_max))\n",
    "pexchange = pexchange + pexchange.dag()\n",
    "rexchange =  tensor(qeye(cav_max), create(p_max), destroy(r_max))\n",
    "rexchange = rexchange + rexchange.dag()\n",
    "drive = (a.dag() + a)\n",
    "\n",
    "# interaction term \n",
    "# counts unique pairs of rydbergs and assigns interaction energy of U to each\n",
    "# num_pairs = C(n, 2) = n(n-1)/2\n",
    "# which translates to the operator form below\n",
    "interaction = U * 1/2 *r.dag()*r.dag()*r*r\n",
    "\n",
    "\n",
    "# H_effective\n",
    "H = prb*drive + g*pexchange + omega*rexchange + interaction + delta*(a.dag()*a + p.dag()*p + r.dag()*r)\n",
    "\n",
    "# collapse operators\n",
    "c_phot = np.sqrt(kappa)*tensor(destroy(cav_max), qeye(p_max), qeye(r_max))\n",
    "c_p = np.sqrt(gamma)*tensor(qeye(cav_max), destroy(p_max), qeye(r_max))\n",
    "c_r = np.sqrt(gamma_r)*tensor(qeye(cav_max), qeye(p_max), destroy(r_max))\n",
    "\n",
    "c = [c_phot, c_p, c_r]\n",
    "\n",
    "\n",
    "# prepare options for mesolver to not tidy up small values\n",
    "# we don't want to loose small numbers \n",
    "options = Options(tidy=False)\n",
    "\n",
    "# steady state \n",
    "rho_ss = steadystate(H, c, method='direct')\n",
    "times = np.linspace(0, 100, 100) # includes t=0\n",
    "\n",
    "# calculate time evolition after removing a photon\n",
    "rho_m1 = a * rho_ss * a.dag() # remove one photon from SS\n",
    "norm = np.trace(rho_m1) # normalization factor \n",
    "rho_m1 = a * (rho_ss / norm) * a.dag() # renormalize SS\n",
    "rho_m1_t = mesolve(H, rho_m1, times, c, [a.dag()*a], options=options)\n",
    "\n",
    "# build g2\n",
    "num = rho_m1_t.expect[0] * norm  \n",
    "den = np.power(np.trace(a.dag()*a*rho_ss), 2)\n",
    "\n",
    "g2 = num/den \n",
    "# g2  = coherence_function_g2(H, rho_ss, times, c, a)[0] # return normalized g2\n",
    "   \n",
    "print('g2[0] =', g2[0]) \n",
    "\n",
    "#matplotlib\n",
    "fig=plt.figure()\n",
    "plt.plot(times, g2)\n",
    "plt.xlabel('t: Time')\n",
    "plt.ylabel('$g^{(2)}(t)$')\n",
    "plt.title('g='+str(g) + ' | U=' + str(U) + ' | $\\Omega$ =' + str(omega) + ' | $\\kappa$=' + str(kappa)  + ' | $\\Gamma_R$=' + str(gamma_r) +' | $\\Gamma_P$=' + str(gamma) + ' | PrbPwr=' + str(prb))"
   ]
  },
  {
   "cell_type": "code",
   "execution_count": null,
   "metadata": {},
   "outputs": [],
   "source": []
  }
 ],
 "metadata": {
  "kernelspec": {
   "display_name": "Python 3",
   "language": "python",
   "name": "python3"
  },
  "language_info": {
   "codemirror_mode": {
    "name": "ipython",
    "version": 3
   },
   "file_extension": ".py",
   "mimetype": "text/x-python",
   "name": "python",
   "nbconvert_exporter": "python",
   "pygments_lexer": "ipython3",
   "version": "3.6.9"
  }
 },
 "nbformat": 4,
 "nbformat_minor": 2
}
